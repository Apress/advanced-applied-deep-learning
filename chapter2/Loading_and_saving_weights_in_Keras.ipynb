{
  "nbformat": 4,
  "nbformat_minor": 0,
  "metadata": {
    "colab": {
      "name": "Loading and saving weights in Keras.ipynb",
      "version": "0.3.2",
      "provenance": [],
      "collapsed_sections": [],
      "include_colab_link": true
    },
    "kernelspec": {
      "name": "python3",
      "display_name": "Python 3"
    },
    "accelerator": "GPU"
  },
  "cells": [
    {
      "cell_type": "markdown",
      "metadata": {
        "id": "view-in-github",
        "colab_type": "text"
      },
      "source": [
        "<a href=\"https://colab.research.google.com/github/michelucci/aadl2-code/blob/master/chapter2/Loading_and_saving_weights_in_Keras.ipynb\" target=\"_parent\"><img src=\"https://colab.research.google.com/assets/colab-badge.svg\" alt=\"Open In Colab\"/></a>"
      ]
    },
    {
      "metadata": {
        "id": "A0pImFAJ22JG",
        "colab_type": "text"
      },
      "cell_type": "markdown",
      "source": [
        "# Loading and saving weights in Keras\n",
        "\n",
        "(C) 2019 Umberto Michelucci\n",
        "\n",
        "umberto.michelucci@toelt.ai\n",
        "\n",
        "www.toelt.ai\n",
        "\n",
        "Official Documentation Link: https://goo.gl/CA3zDT"
      ]
    },
    {
      "metadata": {
        "id": "luziv8hp2-8r",
        "colab_type": "code",
        "colab": {}
      },
      "cell_type": "code",
      "source": [
        "import os\n",
        "\n",
        "import tensorflow as tf\n",
        "from tensorflow import keras"
      ],
      "execution_count": 0,
      "outputs": []
    },
    {
      "metadata": {
        "id": "_pjWIqWa3Hwo",
        "colab_type": "text"
      },
      "cell_type": "markdown",
      "source": [
        "To make training faster let's consider only 5000 digits."
      ]
    },
    {
      "metadata": {
        "id": "4sv590m83O1Q",
        "colab_type": "code",
        "outputId": "c35170a0-c34f-41d0-fa64-b2cdaca7efb6",
        "colab": {
          "base_uri": "https://localhost:8080/",
          "height": 52
        }
      },
      "cell_type": "code",
      "source": [
        "(train_images, train_labels), (test_images, test_labels) = tf.keras.datasets.mnist.load_data()\n",
        "\n",
        "train_labels = train_labels[:5000]\n",
        "test_labels = test_labels[:5000]\n",
        "\n",
        "train_images = train_images[:5000].reshape(-1, 28 * 28) / 255.0\n",
        "test_images = test_images[:5000].reshape(-1, 28 * 28) / 255.0"
      ],
      "execution_count": 0,
      "outputs": [
        {
          "output_type": "stream",
          "text": [
            "Downloading data from https://storage.googleapis.com/tensorflow/tf-keras-datasets/mnist.npz\n",
            "11493376/11490434 [==============================] - 0s 0us/step\n"
          ],
          "name": "stdout"
        }
      ]
    },
    {
      "metadata": {
        "id": "YRqpFum-3Rg3",
        "colab_type": "text"
      },
      "cell_type": "markdown",
      "source": [
        "Let's build a very easy model for our testing"
      ]
    },
    {
      "metadata": {
        "id": "VUgiEeX13b0i",
        "colab_type": "code",
        "outputId": "ab766e1e-7ec6-49e2-8cd9-f91f83d50e4e",
        "colab": {
          "base_uri": "https://localhost:8080/",
          "height": 243
        }
      },
      "cell_type": "code",
      "source": [
        "model = tf.keras.models.Sequential([\n",
        "    keras.layers.Dense(512, activation=tf.keras.activations.relu, input_shape=(784,)),\n",
        "    keras.layers.Dropout(0.2),\n",
        "    keras.layers.Dense(10, activation=tf.keras.activations.softmax)\n",
        "  ])\n",
        "\n",
        "model.compile(optimizer='adam',\n",
        "                loss=tf.keras.losses.sparse_categorical_crossentropy,\n",
        "                metrics=['accuracy'])\n",
        "\n",
        "model.summary()"
      ],
      "execution_count": 0,
      "outputs": [
        {
          "output_type": "stream",
          "text": [
            "_________________________________________________________________\n",
            "Layer (type)                 Output Shape              Param #   \n",
            "=================================================================\n",
            "dense (Dense)                (None, 512)               401920    \n",
            "_________________________________________________________________\n",
            "dropout (Dropout)            (None, 512)               0         \n",
            "_________________________________________________________________\n",
            "dense_1 (Dense)              (None, 10)                5130      \n",
            "=================================================================\n",
            "Total params: 407,050\n",
            "Trainable params: 407,050\n",
            "Non-trainable params: 0\n",
            "_________________________________________________________________\n"
          ],
          "name": "stdout"
        }
      ]
    },
    {
      "metadata": {
        "id": "GxagZMuT3hlx",
        "colab_type": "code",
        "outputId": "08f98ae8-0756-4f2c-91cc-3775430c3982",
        "colab": {
          "base_uri": "https://localhost:8080/",
          "height": 696
        }
      },
      "cell_type": "code",
      "source": [
        "checkpoint_path = \"training/cp.ckpt\"\n",
        "checkpoint_dir = os.path.dirname(checkpoint_path)\n",
        "print(checkpoint_dir)\n",
        "\n",
        "# Create checkpoint callback\n",
        "cp_callback = tf.keras.callbacks.ModelCheckpoint(checkpoint_path,\n",
        "                                                 save_weights_only=True,\n",
        "                                                 verbose=1, period = 1)\n",
        "\n",
        "model.fit(train_images, train_labels,  epochs = 5,\n",
        "          validation_data = (test_images,test_labels),\n",
        "          callbacks = [cp_callback])  # pass callback to training"
      ],
      "execution_count": 0,
      "outputs": [
        {
          "output_type": "stream",
          "text": [
            "training\n",
            "Train on 5000 samples, validate on 5000 samples\n",
            "Epoch 1/5\n",
            "4992/5000 [============================>.] - ETA: 0s - loss: 0.2422 - acc: 0.9367\n",
            "Epoch 00001: saving model to training/cp.ckpt\n",
            "WARNING:tensorflow:This model was compiled with a Keras optimizer (<tensorflow.python.keras.optimizers.Adam object at 0x7fe39ebdcba8>) but is being saved in TensorFlow format with `save_weights`. The model's weights will be saved, but unlike with TensorFlow optimizers in the TensorFlow format the optimizer's state will not be saved.\n",
            "\n",
            "Consider using a TensorFlow optimizer from `tf.train`.\n",
            "5000/5000 [==============================] - 1s 207us/step - loss: 0.2419 - acc: 0.9368 - val_loss: 0.3469 - val_acc: 0.8966\n",
            "Epoch 2/5\n",
            "4768/5000 [===========================>..] - ETA: 0s - loss: 0.1710 - acc: 0.9499\n",
            "Epoch 00002: saving model to training/cp.ckpt\n",
            "WARNING:tensorflow:This model was compiled with a Keras optimizer (<tensorflow.python.keras.optimizers.Adam object at 0x7fe39ebdcba8>) but is being saved in TensorFlow format with `save_weights`. The model's weights will be saved, but unlike with TensorFlow optimizers in the TensorFlow format the optimizer's state will not be saved.\n",
            "\n",
            "Consider using a TensorFlow optimizer from `tf.train`.\n",
            "5000/5000 [==============================] - 1s 200us/step - loss: 0.1703 - acc: 0.9500 - val_loss: 0.3063 - val_acc: 0.9038\n",
            "Epoch 3/5\n",
            "4928/5000 [============================>.] - ETA: 0s - loss: 0.1221 - acc: 0.9661\n",
            "Epoch 00003: saving model to training/cp.ckpt\n",
            "WARNING:tensorflow:This model was compiled with a Keras optimizer (<tensorflow.python.keras.optimizers.Adam object at 0x7fe39ebdcba8>) but is being saved in TensorFlow format with `save_weights`. The model's weights will be saved, but unlike with TensorFlow optimizers in the TensorFlow format the optimizer's state will not be saved.\n",
            "\n",
            "Consider using a TensorFlow optimizer from `tf.train`.\n",
            "5000/5000 [==============================] - 1s 185us/step - loss: 0.1216 - acc: 0.9662 - val_loss: 0.2662 - val_acc: 0.9192\n",
            "Epoch 4/5\n",
            "4992/5000 [============================>.] - ETA: 0s - loss: 0.0842 - acc: 0.9788\n",
            "Epoch 00004: saving model to training/cp.ckpt\n",
            "WARNING:tensorflow:This model was compiled with a Keras optimizer (<tensorflow.python.keras.optimizers.Adam object at 0x7fe39ebdcba8>) but is being saved in TensorFlow format with `save_weights`. The model's weights will be saved, but unlike with TensorFlow optimizers in the TensorFlow format the optimizer's state will not be saved.\n",
            "\n",
            "Consider using a TensorFlow optimizer from `tf.train`.\n",
            "5000/5000 [==============================] - 1s 185us/step - loss: 0.0847 - acc: 0.9786 - val_loss: 0.2537 - val_acc: 0.9230\n",
            "Epoch 5/5\n",
            "4608/5000 [==========================>...] - ETA: 0s - loss: 0.0713 - acc: 0.9796\n",
            "Epoch 00005: saving model to training/cp.ckpt\n",
            "WARNING:tensorflow:This model was compiled with a Keras optimizer (<tensorflow.python.keras.optimizers.Adam object at 0x7fe39ebdcba8>) but is being saved in TensorFlow format with `save_weights`. The model's weights will be saved, but unlike with TensorFlow optimizers in the TensorFlow format the optimizer's state will not be saved.\n",
            "\n",
            "Consider using a TensorFlow optimizer from `tf.train`.\n",
            "5000/5000 [==============================] - 1s 184us/step - loss: 0.0729 - acc: 0.9792 - val_loss: 0.2644 - val_acc: 0.9216\n"
          ],
          "name": "stdout"
        },
        {
          "output_type": "execute_result",
          "data": {
            "text/plain": [
              "<tensorflow.python.keras.callbacks.History at 0x7fe396f1f2e8>"
            ]
          },
          "metadata": {
            "tags": []
          },
          "execution_count": 11
        }
      ]
    },
    {
      "metadata": {
        "id": "gwm07a6Q3wlo",
        "colab_type": "code",
        "outputId": "57a4596b-5eb6-4fac-8845-d375fff58600",
        "colab": {
          "base_uri": "https://localhost:8080/",
          "height": 121
        }
      },
      "cell_type": "code",
      "source": [
        "!ls -al {checkpoint_dir}"
      ],
      "execution_count": 0,
      "outputs": [
        {
          "output_type": "stream",
          "text": [
            "total 1612\n",
            "drwxr-xr-x 2 root root    4096 Jan 28 21:45 .\n",
            "drwxr-xr-x 1 root root    4096 Jan 28 20:51 ..\n",
            "-rw-r--r-- 1 root root      71 Jan 28 21:45 checkpoint\n",
            "-rw-r--r-- 1 root root 1631492 Jan 28 21:45 cp.ckpt.data-00000-of-00001\n",
            "-rw-r--r-- 1 root root     647 Jan 28 21:45 cp.ckpt.index\n"
          ],
          "name": "stdout"
        }
      ]
    },
    {
      "metadata": {
        "id": "0EbhLed24BTW",
        "colab_type": "text"
      },
      "cell_type": "markdown",
      "source": [
        "Now let's create a completely untrained model (with the same architecture)"
      ]
    },
    {
      "metadata": {
        "id": "5Scwwq464apt",
        "colab_type": "code",
        "outputId": "a9936eee-dba4-4438-f036-5e7255f731a4",
        "colab": {
          "base_uri": "https://localhost:8080/",
          "height": 243
        }
      },
      "cell_type": "code",
      "source": [
        "model2 = tf.keras.models.Sequential([\n",
        "    keras.layers.Dense(512, activation=tf.keras.activations.relu, input_shape=(784,)),\n",
        "    keras.layers.Dropout(0.2),\n",
        "    keras.layers.Dense(10, activation=tf.keras.activations.softmax)\n",
        "  ])\n",
        "\n",
        "model2.compile(optimizer='adam',\n",
        "                loss=tf.keras.losses.sparse_categorical_crossentropy,\n",
        "                metrics=['accuracy'])\n",
        "\n",
        "model2.summary()"
      ],
      "execution_count": 0,
      "outputs": [
        {
          "output_type": "stream",
          "text": [
            "_________________________________________________________________\n",
            "Layer (type)                 Output Shape              Param #   \n",
            "=================================================================\n",
            "dense_2 (Dense)              (None, 512)               401920    \n",
            "_________________________________________________________________\n",
            "dropout_1 (Dropout)          (None, 512)               0         \n",
            "_________________________________________________________________\n",
            "dense_3 (Dense)              (None, 10)                5130      \n",
            "=================================================================\n",
            "Total params: 407,050\n",
            "Trainable params: 407,050\n",
            "Non-trainable params: 0\n",
            "_________________________________________________________________\n"
          ],
          "name": "stdout"
        }
      ]
    },
    {
      "metadata": {
        "id": "UxzbcmNp4fMs",
        "colab_type": "code",
        "outputId": "45893e77-c68f-465c-96a0-c3dccf655eb3",
        "colab": {
          "base_uri": "https://localhost:8080/",
          "height": 52
        }
      },
      "cell_type": "code",
      "source": [
        "loss, acc = model2.evaluate(test_images, test_labels)\n",
        "print(\"Untrained model, accuracy: {:5.2f}%\".format(100*acc))"
      ],
      "execution_count": 0,
      "outputs": [
        {
          "output_type": "stream",
          "text": [
            "5000/5000 [==============================] - 0s 80us/step\n",
            "Untrained model, accuracy:  7.58%\n"
          ],
          "name": "stdout"
        }
      ]
    },
    {
      "metadata": {
        "id": "YOrL09G04iX0",
        "colab_type": "text"
      },
      "cell_type": "markdown",
      "source": [
        "As expected we have a random classification (roughly 10%). Now we reload the weights and reevaluate the accuracy."
      ]
    },
    {
      "metadata": {
        "id": "tBYQKb8l4qfe",
        "colab_type": "code",
        "outputId": "b22c550a-2f62-4fd8-b98d-3c0dfc6c9216",
        "colab": {
          "base_uri": "https://localhost:8080/",
          "height": 52
        }
      },
      "cell_type": "code",
      "source": [
        "model2.load_weights(checkpoint_path)\n",
        "loss,acc = model2.evaluate(test_images, test_labels)\n",
        "print(\"Restored model, accuracy: {:5.2f}%\".format(100*acc))"
      ],
      "execution_count": 0,
      "outputs": [
        {
          "output_type": "stream",
          "text": [
            "5000/5000 [==============================] - 0s 54us/step\n",
            "Restored model, accuracy: 85.96%\n"
          ],
          "name": "stdout"
        }
      ]
    },
    {
      "metadata": {
        "id": "tIhBysGAbXWH",
        "colab_type": "text"
      },
      "cell_type": "markdown",
      "source": [
        "# Saving the weights every $n$ epochs"
      ]
    },
    {
      "metadata": {
        "id": "onOvWGn-bbmM",
        "colab_type": "code",
        "colab": {}
      },
      "cell_type": "code",
      "source": [
        "checkpoint_path = \"training/cp-{epoch:04d}.ckpt\"\n",
        "checkpoint_dir = os.path.dirname(checkpoint_path)\n"
      ],
      "execution_count": 0,
      "outputs": []
    },
    {
      "metadata": {
        "id": "L5I6dIG-bd9n",
        "colab_type": "code",
        "colab": {}
      },
      "cell_type": "code",
      "source": [
        "cp_callback = tf.keras.callbacks.ModelCheckpoint(\n",
        "    checkpoint_path, verbose=1, save_weights_only=True,\n",
        "    period=1)\n"
      ],
      "execution_count": 0,
      "outputs": []
    },
    {
      "metadata": {
        "id": "X82fGuHZbjtY",
        "colab_type": "code",
        "outputId": "2c7fc03d-b984-48dc-fc71-8213053c9578",
        "colab": {
          "base_uri": "https://localhost:8080/",
          "height": 89
        }
      },
      "cell_type": "code",
      "source": [
        "model.save_weights(checkpoint_path.format(epoch=0))"
      ],
      "execution_count": 0,
      "outputs": [
        {
          "output_type": "stream",
          "text": [
            "WARNING:tensorflow:This model was compiled with a Keras optimizer (<tensorflow.python.keras.optimizers.Adam object at 0x7fe39ebdcba8>) but is being saved in TensorFlow format with `save_weights`. The model's weights will be saved, but unlike with TensorFlow optimizers in the TensorFlow format the optimizer's state will not be saved.\n",
            "\n",
            "Consider using a TensorFlow optimizer from `tf.train`.\n"
          ],
          "name": "stdout"
        }
      ]
    },
    {
      "metadata": {
        "id": "bV3h425jbsH8",
        "colab_type": "code",
        "outputId": "4a9cf996-42d5-4f96-e0bd-3385cca3b9cc",
        "colab": {
          "base_uri": "https://localhost:8080/",
          "height": 921
        }
      },
      "cell_type": "code",
      "source": [
        "model.fit(train_images, train_labels,\n",
        "          epochs = 10, callbacks = [cp_callback],\n",
        "          validation_data = (test_images,test_labels),\n",
        "          verbose=0)\n"
      ],
      "execution_count": 0,
      "outputs": [
        {
          "output_type": "stream",
          "text": [
            "\n",
            "Epoch 00001: saving model to training/cp-0001.ckpt\n",
            "WARNING:tensorflow:This model was compiled with a Keras optimizer (<tensorflow.python.keras.optimizers.Adam object at 0x7fe39ebdcba8>) but is being saved in TensorFlow format with `save_weights`. The model's weights will be saved, but unlike with TensorFlow optimizers in the TensorFlow format the optimizer's state will not be saved.\n",
            "\n",
            "Consider using a TensorFlow optimizer from `tf.train`.\n",
            "\n",
            "Epoch 00002: saving model to training/cp-0002.ckpt\n",
            "WARNING:tensorflow:This model was compiled with a Keras optimizer (<tensorflow.python.keras.optimizers.Adam object at 0x7fe39ebdcba8>) but is being saved in TensorFlow format with `save_weights`. The model's weights will be saved, but unlike with TensorFlow optimizers in the TensorFlow format the optimizer's state will not be saved.\n",
            "\n",
            "Consider using a TensorFlow optimizer from `tf.train`.\n",
            "\n",
            "Epoch 00003: saving model to training/cp-0003.ckpt\n",
            "WARNING:tensorflow:This model was compiled with a Keras optimizer (<tensorflow.python.keras.optimizers.Adam object at 0x7fe39ebdcba8>) but is being saved in TensorFlow format with `save_weights`. The model's weights will be saved, but unlike with TensorFlow optimizers in the TensorFlow format the optimizer's state will not be saved.\n",
            "\n",
            "Consider using a TensorFlow optimizer from `tf.train`.\n",
            "\n",
            "Epoch 00004: saving model to training/cp-0004.ckpt\n",
            "WARNING:tensorflow:This model was compiled with a Keras optimizer (<tensorflow.python.keras.optimizers.Adam object at 0x7fe39ebdcba8>) but is being saved in TensorFlow format with `save_weights`. The model's weights will be saved, but unlike with TensorFlow optimizers in the TensorFlow format the optimizer's state will not be saved.\n",
            "\n",
            "Consider using a TensorFlow optimizer from `tf.train`.\n",
            "\n",
            "Epoch 00005: saving model to training/cp-0005.ckpt\n",
            "WARNING:tensorflow:This model was compiled with a Keras optimizer (<tensorflow.python.keras.optimizers.Adam object at 0x7fe39ebdcba8>) but is being saved in TensorFlow format with `save_weights`. The model's weights will be saved, but unlike with TensorFlow optimizers in the TensorFlow format the optimizer's state will not be saved.\n",
            "\n",
            "Consider using a TensorFlow optimizer from `tf.train`.\n",
            "\n",
            "Epoch 00006: saving model to training/cp-0006.ckpt\n",
            "WARNING:tensorflow:This model was compiled with a Keras optimizer (<tensorflow.python.keras.optimizers.Adam object at 0x7fe39ebdcba8>) but is being saved in TensorFlow format with `save_weights`. The model's weights will be saved, but unlike with TensorFlow optimizers in the TensorFlow format the optimizer's state will not be saved.\n",
            "\n",
            "Consider using a TensorFlow optimizer from `tf.train`.\n",
            "\n",
            "Epoch 00007: saving model to training/cp-0007.ckpt\n",
            "WARNING:tensorflow:This model was compiled with a Keras optimizer (<tensorflow.python.keras.optimizers.Adam object at 0x7fe39ebdcba8>) but is being saved in TensorFlow format with `save_weights`. The model's weights will be saved, but unlike with TensorFlow optimizers in the TensorFlow format the optimizer's state will not be saved.\n",
            "\n",
            "Consider using a TensorFlow optimizer from `tf.train`.\n",
            "\n",
            "Epoch 00008: saving model to training/cp-0008.ckpt\n",
            "WARNING:tensorflow:This model was compiled with a Keras optimizer (<tensorflow.python.keras.optimizers.Adam object at 0x7fe39ebdcba8>) but is being saved in TensorFlow format with `save_weights`. The model's weights will be saved, but unlike with TensorFlow optimizers in the TensorFlow format the optimizer's state will not be saved.\n",
            "\n",
            "Consider using a TensorFlow optimizer from `tf.train`.\n",
            "\n",
            "Epoch 00009: saving model to training/cp-0009.ckpt\n",
            "WARNING:tensorflow:This model was compiled with a Keras optimizer (<tensorflow.python.keras.optimizers.Adam object at 0x7fe39ebdcba8>) but is being saved in TensorFlow format with `save_weights`. The model's weights will be saved, but unlike with TensorFlow optimizers in the TensorFlow format the optimizer's state will not be saved.\n",
            "\n",
            "Consider using a TensorFlow optimizer from `tf.train`.\n",
            "\n",
            "Epoch 00010: saving model to training/cp-0010.ckpt\n",
            "WARNING:tensorflow:This model was compiled with a Keras optimizer (<tensorflow.python.keras.optimizers.Adam object at 0x7fe39ebdcba8>) but is being saved in TensorFlow format with `save_weights`. The model's weights will be saved, but unlike with TensorFlow optimizers in the TensorFlow format the optimizer's state will not be saved.\n",
            "\n",
            "Consider using a TensorFlow optimizer from `tf.train`.\n"
          ],
          "name": "stdout"
        },
        {
          "output_type": "execute_result",
          "data": {
            "text/plain": [
              "<tensorflow.python.keras.callbacks.History at 0x7fe396f3fb38>"
            ]
          },
          "metadata": {
            "tags": []
          },
          "execution_count": 17
        }
      ]
    },
    {
      "metadata": {
        "id": "Ym9alqsqb6rZ",
        "colab_type": "code",
        "outputId": "03fcfaac-9233-4102-9a19-9236e11ef0de",
        "colab": {
          "base_uri": "https://localhost:8080/",
          "height": 243
        }
      },
      "cell_type": "code",
      "source": [
        "\n",
        "!ls training"
      ],
      "execution_count": 0,
      "outputs": [
        {
          "output_type": "stream",
          "text": [
            "checkpoint\t\t\t  cp-0006.ckpt.data-00000-of-00001\n",
            "cp-0000.ckpt.data-00000-of-00001  cp-0006.ckpt.index\n",
            "cp-0000.ckpt.index\t\t  cp-0007.ckpt.data-00000-of-00001\n",
            "cp-0001.ckpt.data-00000-of-00001  cp-0007.ckpt.index\n",
            "cp-0001.ckpt.index\t\t  cp-0008.ckpt.data-00000-of-00001\n",
            "cp-0002.ckpt.data-00000-of-00001  cp-0008.ckpt.index\n",
            "cp-0002.ckpt.index\t\t  cp-0009.ckpt.data-00000-of-00001\n",
            "cp-0003.ckpt.data-00000-of-00001  cp-0009.ckpt.index\n",
            "cp-0003.ckpt.index\t\t  cp-0010.ckpt.data-00000-of-00001\n",
            "cp-0004.ckpt.data-00000-of-00001  cp-0010.ckpt.index\n",
            "cp-0004.ckpt.index\t\t  cp.ckpt.data-00000-of-00001\n",
            "cp-0005.ckpt.data-00000-of-00001  cp.ckpt.index\n",
            "cp-0005.ckpt.index\n"
          ],
          "name": "stdout"
        }
      ]
    },
    {
      "metadata": {
        "id": "7bFtCcO_cl4J",
        "colab_type": "code",
        "outputId": "736603ab-d04a-4c2a-f8ed-32a54e15644d",
        "colab": {
          "base_uri": "https://localhost:8080/",
          "height": 52
        }
      },
      "cell_type": "code",
      "source": [
        "latest = tf.train.latest_checkpoint('training')\n",
        "print(latest)\n",
        "print(type(latest))"
      ],
      "execution_count": 0,
      "outputs": [
        {
          "output_type": "stream",
          "text": [
            "training/cp-0010.ckpt\n",
            "<class 'str'>\n"
          ],
          "name": "stdout"
        }
      ]
    },
    {
      "metadata": {
        "id": "MvI3ml7r4y3e",
        "colab_type": "text"
      },
      "cell_type": "markdown",
      "source": [
        "# Save manually the weights"
      ]
    },
    {
      "metadata": {
        "id": "OBI6YqeKOPpA",
        "colab_type": "text"
      },
      "cell_type": "markdown",
      "source": [
        "You can save your weights manually, without the need to define a callback. For example"
      ]
    },
    {
      "metadata": {
        "id": "ZBoOWbCQOVFI",
        "colab_type": "code",
        "outputId": "55eca780-ecc6-4da0-a61e-d0e5cf4b8e20",
        "colab": {
          "base_uri": "https://localhost:8080/",
          "height": 124
        }
      },
      "cell_type": "code",
      "source": [
        "# Save the weights\n",
        "model.save_weights('./checkpoints/my_checkpoint')\n",
        "\n",
        "# Restore the weights\n",
        "model2.load_weights('./checkpoints/my_checkpoint')\n",
        "\n",
        "loss,acc = model2.evaluate(test_images, test_labels)\n",
        "print(\"Restored model, accuracy: {:5.2f}%\".format(100*acc))"
      ],
      "execution_count": 0,
      "outputs": [
        {
          "output_type": "stream",
          "text": [
            "WARNING:tensorflow:This model was compiled with a Keras optimizer (<tensorflow.python.keras.optimizers.Adam object at 0x7fe39ebdcba8>) but is being saved in TensorFlow format with `save_weights`. The model's weights will be saved, but unlike with TensorFlow optimizers in the TensorFlow format the optimizer's state will not be saved.\n",
            "\n",
            "Consider using a TensorFlow optimizer from `tf.train`.\n",
            "5000/5000 [==============================] - 0s 61us/step\n",
            "Restored model, accuracy: 92.98%\n"
          ],
          "name": "stdout"
        }
      ]
    },
    {
      "metadata": {
        "id": "nFgNaJjLdbFK",
        "colab_type": "code",
        "outputId": "1b2ee734-60a3-4e10-82a3-15211bb8016c",
        "colab": {
          "base_uri": "https://localhost:8080/",
          "height": 35
        }
      },
      "cell_type": "code",
      "source": [
        "!ls ./checkpoints"
      ],
      "execution_count": 0,
      "outputs": [
        {
          "output_type": "stream",
          "text": [
            "checkpoint  my_checkpoint.data-00000-of-00001  my_checkpoint.index\n"
          ],
          "name": "stdout"
        }
      ]
    },
    {
      "metadata": {
        "id": "X9qSp2vDOect",
        "colab_type": "text"
      },
      "cell_type": "markdown",
      "source": [
        "# Save the entire model"
      ]
    },
    {
      "metadata": {
        "id": "FFPUyP0aOysL",
        "colab_type": "code",
        "colab": {}
      },
      "cell_type": "code",
      "source": [
        "model.save('my_model.h5')"
      ],
      "execution_count": 0,
      "outputs": []
    },
    {
      "metadata": {
        "id": "yHmRWqdMSXHl",
        "colab_type": "code",
        "outputId": "896b6a27-9c2d-49c4-bdf5-e7ff41ca4a0c",
        "colab": {
          "base_uri": "https://localhost:8080/",
          "height": 35
        }
      },
      "cell_type": "code",
      "source": [
        "!ls"
      ],
      "execution_count": 0,
      "outputs": [
        {
          "output_type": "stream",
          "text": [
            "checkpoints  my_model.h5  sample_data  training\n"
          ],
          "name": "stdout"
        }
      ]
    },
    {
      "metadata": {
        "id": "kQHl_yUsOzPD",
        "colab_type": "code",
        "outputId": "d6b6c965-9de9-4796-feeb-2b602472a56f",
        "colab": {
          "base_uri": "https://localhost:8080/",
          "height": 243
        }
      },
      "cell_type": "code",
      "source": [
        "new_model = keras.models.load_model('my_model.h5')\n",
        "new_model.summary()"
      ],
      "execution_count": 0,
      "outputs": [
        {
          "output_type": "stream",
          "text": [
            "_________________________________________________________________\n",
            "Layer (type)                 Output Shape              Param #   \n",
            "=================================================================\n",
            "dense (Dense)                (None, 512)               401920    \n",
            "_________________________________________________________________\n",
            "dropout (Dropout)            (None, 512)               0         \n",
            "_________________________________________________________________\n",
            "dense_1 (Dense)              (None, 10)                5130      \n",
            "=================================================================\n",
            "Total params: 407,050\n",
            "Trainable params: 407,050\n",
            "Non-trainable params: 0\n",
            "_________________________________________________________________\n"
          ],
          "name": "stdout"
        }
      ]
    },
    {
      "metadata": {
        "id": "l_0I0F2JO2SC",
        "colab_type": "code",
        "outputId": "c443e02e-07a9-4bea-838a-cbd6d0e91884",
        "colab": {
          "base_uri": "https://localhost:8080/",
          "height": 52
        }
      },
      "cell_type": "code",
      "source": [
        "loss, acc = new_model.evaluate(test_images, test_labels)\n",
        "print(\"Restored model, accuracy: {:5.2f}%\".format(100*acc))"
      ],
      "execution_count": 0,
      "outputs": [
        {
          "output_type": "stream",
          "text": [
            "5000/5000 [==============================] - 0s 77us/step\n",
            "Restored model, accuracy: 92.88%\n"
          ],
          "name": "stdout"
        }
      ]
    },
    {
      "metadata": {
        "id": "WPEkb7_4O43C",
        "colab_type": "code",
        "colab": {}
      },
      "cell_type": "code",
      "source": [
        ""
      ],
      "execution_count": 0,
      "outputs": []
    }
  ]
}