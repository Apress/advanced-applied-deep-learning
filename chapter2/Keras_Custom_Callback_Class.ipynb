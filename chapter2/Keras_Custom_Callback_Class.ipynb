{
  "nbformat": 4,
  "nbformat_minor": 0,
  "metadata": {
    "colab": {
      "name": "Keras Custom Callback Class.ipynb",
      "version": "0.3.2",
      "provenance": [],
      "collapsed_sections": [],
      "include_colab_link": true
    },
    "kernelspec": {
      "name": "python3",
      "display_name": "Python 3"
    }
  },
  "cells": [
    {
      "cell_type": "markdown",
      "metadata": {
        "id": "view-in-github",
        "colab_type": "text"
      },
      "source": [
        "<a href=\"https://colab.research.google.com/github/michelucci/aadl2-code/blob/master/chapter2/Keras_Custom_Callback_Class.ipynb\" target=\"_parent\"><img src=\"https://colab.research.google.com/assets/colab-badge.svg\" alt=\"Open In Colab\"/></a>"
      ]
    },
    {
      "metadata": {
        "id": "CM7JFsMV9H3X",
        "colab_type": "text"
      },
      "cell_type": "markdown",
      "source": [
        "# Custom Callback Class example\n",
        "\n",
        "(C) Umberto Michelucci\n",
        "\n",
        "umberto.michelucci@toelt.ai\n",
        "\n",
        "www.toelt.ai"
      ]
    },
    {
      "metadata": {
        "id": "hOgZL_tU8-pq",
        "colab_type": "code",
        "colab": {}
      },
      "cell_type": "code",
      "source": [
        "import tensorflow as tf\n",
        "from tensorflow import keras"
      ],
      "execution_count": 0,
      "outputs": []
    },
    {
      "metadata": {
        "id": "E_JnY6H29T6R",
        "colab_type": "code",
        "colab": {}
      },
      "cell_type": "code",
      "source": [
        "(train_images, train_labels), (test_images, test_labels) = tf.keras.datasets.mnist.load_data()\n",
        "\n",
        "train_labels = train_labels[:5000]\n",
        "test_labels = test_labels[:5000]\n",
        "\n",
        "train_images = train_images[:5000].reshape(-1, 28 * 28) / 255.0\n",
        "test_images = test_images[:5000].reshape(-1, 28 * 28) / 255.0"
      ],
      "execution_count": 0,
      "outputs": []
    },
    {
      "metadata": {
        "id": "ND1wlVpa9fbV",
        "colab_type": "code",
        "outputId": "4f17af20-175a-487a-d520-49cbc5671ca8",
        "colab": {
          "base_uri": "https://localhost:8080/",
          "height": 243
        }
      },
      "cell_type": "code",
      "source": [
        "model = tf.keras.models.Sequential([\n",
        "    keras.layers.Dense(512, activation=tf.keras.activations.relu, input_shape=(784,)),\n",
        "    keras.layers.Dropout(0.2),\n",
        "    keras.layers.Dense(10, activation=tf.keras.activations.softmax)\n",
        "  ])\n",
        "\n",
        "model.compile(optimizer='adam',\n",
        "                loss=tf.keras.losses.sparse_categorical_crossentropy,\n",
        "                metrics=['accuracy'])\n",
        "\n",
        "model.summary()"
      ],
      "execution_count": 0,
      "outputs": [
        {
          "output_type": "stream",
          "text": [
            "_________________________________________________________________\n",
            "Layer (type)                 Output Shape              Param #   \n",
            "=================================================================\n",
            "dense (Dense)                (None, 512)               401920    \n",
            "_________________________________________________________________\n",
            "dropout (Dropout)            (None, 512)               0         \n",
            "_________________________________________________________________\n",
            "dense_1 (Dense)              (None, 10)                5130      \n",
            "=================================================================\n",
            "Total params: 407,050\n",
            "Trainable params: 407,050\n",
            "Non-trainable params: 0\n",
            "_________________________________________________________________\n"
          ],
          "name": "stdout"
        }
      ]
    },
    {
      "metadata": {
        "id": "FQY0Obd79E_1",
        "colab_type": "code",
        "colab": {}
      },
      "cell_type": "code",
      "source": [
        "class CustomCallback1(keras.callbacks.Callback):\n",
        "    def on_train_begin(self, logs={}):\n",
        "        return\n",
        " \n",
        "    def on_train_end(self, logs={}):\n",
        "        return\n",
        " \n",
        "    def on_epoch_begin(self, logs={}):\n",
        "        return\n",
        " \n",
        "    def on_epoch_end(self, epoch, logs={}):\n",
        "        return\n",
        " \n",
        "    def on_batch_begin(self, batch, logs={}):\n",
        "        return\n",
        " \n",
        "    def on_batch_end(self, batch, logs={}):\n",
        "        self.losses.append(logs.get('loss'))\n",
        "        return"
      ],
      "execution_count": 0,
      "outputs": []
    },
    {
      "metadata": {
        "id": "SfmFFBkM-SMz",
        "colab_type": "code",
        "colab": {}
      },
      "cell_type": "code",
      "source": [
        "class CustomCallback1(keras.callbacks.Callback):\n",
        "    def on_train_begin(self, logs={}):\n",
        "        print (logs)\n",
        "        return\n"
      ],
      "execution_count": 0,
      "outputs": []
    },
    {
      "metadata": {
        "id": "zSw86kIh96K1",
        "colab_type": "code",
        "outputId": "57df31a4-0eb4-4732-e37a-45da37dcdafc",
        "colab": {
          "base_uri": "https://localhost:8080/",
          "height": 156
        }
      },
      "cell_type": "code",
      "source": [
        "CC1 = CustomCallback1()\n",
        "model.fit(train_images, train_labels,  epochs = 2,\n",
        "          validation_data = (test_images,test_labels),\n",
        "          callbacks = [CC1])  # pass callback to training"
      ],
      "execution_count": 0,
      "outputs": [
        {
          "output_type": "stream",
          "text": [
            "Train on 5000 samples, validate on 5000 samples\n",
            "{}\n",
            "Epoch 1/2\n",
            "5000/5000 [==============================] - 1s 274us/step - loss: 0.0976 - acc: 0.9746 - val_loss: 0.2690 - val_acc: 0.9172\n",
            "Epoch 2/2\n",
            "5000/5000 [==============================] - 1s 275us/step - loss: 0.0650 - acc: 0.9852 - val_loss: 0.2925 - val_acc: 0.9114\n",
            "{}\n"
          ],
          "name": "stdout"
        },
        {
          "output_type": "execute_result",
          "data": {
            "text/plain": [
              "<tensorflow.python.keras.callbacks.History at 0x7f795d750208>"
            ]
          },
          "metadata": {
            "tags": []
          },
          "execution_count": 19
        }
      ]
    },
    {
      "metadata": {
        "id": "-DasJiZP-Y1Q",
        "colab_type": "code",
        "colab": {}
      },
      "cell_type": "code",
      "source": [
        "class CustomCallback2(keras.callbacks.Callback):\n",
        "    def on_train_begin(self, logs={}):\n",
        "        print (logs)\n",
        "        return\n",
        "      \n",
        "    def on_epoch_end(self, epoch, logs={}):\n",
        "        print (\"Just finished epoch\", epoch)\n",
        "        print (logs)\n",
        "        return"
      ],
      "execution_count": 0,
      "outputs": []
    },
    {
      "metadata": {
        "id": "aMewp_meAFQj",
        "colab_type": "code",
        "outputId": "9684933b-31a0-458d-c03b-cda915516932",
        "colab": {
          "base_uri": "https://localhost:8080/",
          "height": 208
        }
      },
      "cell_type": "code",
      "source": [
        "CC2 = CustomCallback2()\n",
        "model.fit(train_images, train_labels,  epochs = 2,\n",
        "          validation_data = (test_images,test_labels),\n",
        "          callbacks = [CC2])  # pass callback to training"
      ],
      "execution_count": 0,
      "outputs": [
        {
          "output_type": "stream",
          "text": [
            "Train on 5000 samples, validate on 5000 samples\n",
            "{}\n",
            "Epoch 1/2\n",
            "4864/5000 [============================>.] - ETA: 0s - loss: 0.0511 - acc: 0.9879Just finished epoch 0\n",
            "{'val_loss': 0.2545496598124504, 'val_acc': 0.9244, 'loss': 0.05098680723309517, 'acc': 0.9878}\n",
            "5000/5000 [==============================] - 2s 313us/step - loss: 0.0510 - acc: 0.9878 - val_loss: 0.2545 - val_acc: 0.9244\n",
            "Epoch 2/2\n",
            "4928/5000 [============================>.] - ETA: 0s - loss: 0.0345 - acc: 0.9935Just finished epoch 1\n",
            "{'val_loss': 0.2609869733929634, 'val_acc': 0.924, 'loss': 0.034556815406680104, 'acc': 0.9934}\n",
            "5000/5000 [==============================] - 1s 285us/step - loss: 0.0346 - acc: 0.9934 - val_loss: 0.2610 - val_acc: 0.9240\n"
          ],
          "name": "stdout"
        },
        {
          "output_type": "execute_result",
          "data": {
            "text/plain": [
              "<tensorflow.python.keras.callbacks.History at 0x7f795d766240>"
            ]
          },
          "metadata": {
            "tags": []
          },
          "execution_count": 21
        }
      ]
    },
    {
      "metadata": {
        "id": "n61uzhjxAHuY",
        "colab_type": "code",
        "colab": {}
      },
      "cell_type": "code",
      "source": [
        "class CustomCallback3(keras.callbacks.Callback):\n",
        "    def on_train_begin(self, logs={}):\n",
        "        print (logs)\n",
        "        return\n",
        "      \n",
        "    def on_epoch_end(self, epoch, logs={}):\n",
        "        print (\"Just finished epoch\", epoch)\n",
        "        print ('Loss evaluated on the validation dataset =',logs.get('val_loss'))\n",
        "        print ('Accuracy reached is', logs.get('acc'))\n",
        "        return"
      ],
      "execution_count": 0,
      "outputs": []
    },
    {
      "metadata": {
        "id": "e-Cme6EGBH0_",
        "colab_type": "code",
        "outputId": "6afc4ce0-2e4c-4ff8-ff8b-07fbdbbc6071",
        "colab": {
          "base_uri": "https://localhost:8080/",
          "height": 121
        }
      },
      "cell_type": "code",
      "source": [
        "CC3 = CustomCallback3()\n",
        "model.fit(train_images, train_labels,  epochs = 2,\n",
        "          validation_data = (test_images,test_labels),\n",
        "          callbacks = [CC3], verbose = 0)  # pass callback to training"
      ],
      "execution_count": 0,
      "outputs": [
        {
          "output_type": "stream",
          "text": [
            "{}\n",
            "Just finished epoch 0\n",
            "Loss evaluated on the validation dataset = 0.2546206972360611\n",
            "Just finished epoch 1\n",
            "Loss evaluated on the validation dataset = 0.2529826516211033\n"
          ],
          "name": "stdout"
        },
        {
          "output_type": "execute_result",
          "data": {
            "text/plain": [
              "<tensorflow.python.keras.callbacks.History at 0x7f795d76c8d0>"
            ]
          },
          "metadata": {
            "tags": []
          },
          "execution_count": 27
        }
      ]
    },
    {
      "metadata": {
        "id": "t8lJSovpBKZE",
        "colab_type": "code",
        "colab": {}
      },
      "cell_type": "code",
      "source": [
        "class CustomCallback4(keras.callbacks.Callback):\n",
        "    def on_train_begin(self, logs={}):\n",
        "        print (logs)\n",
        "        return\n",
        "      \n",
        "    def on_epoch_end(self, epoch, logs={}):\n",
        "        if (epoch % 10 == 0):\n",
        "          print (\"Just finished epoch\", epoch)\n",
        "          print ('Loss evaluated on the validation dataset =',logs.get('val_loss'))\n",
        "          print ('Accuracy reached is', logs.get('acc'))\n",
        "        return"
      ],
      "execution_count": 0,
      "outputs": []
    },
    {
      "metadata": {
        "id": "DK-ks9nNCals",
        "colab_type": "code",
        "outputId": "2bc79494-2854-40eb-b887-0cb8c729b8ef",
        "colab": {
          "base_uri": "https://localhost:8080/",
          "height": 208
        }
      },
      "cell_type": "code",
      "source": [
        "CC4 = CustomCallback4()\n",
        "model.fit(train_images, train_labels,  epochs = 30,\n",
        "          validation_data = (test_images,test_labels),\n",
        "          callbacks = [CC4], verbose = 0)  # pass callback to training"
      ],
      "execution_count": 0,
      "outputs": [
        {
          "output_type": "stream",
          "text": [
            "{}\n",
            "Just finished epoch 0\n",
            "Loss evaluated on the validation dataset = 0.3692033936366439\n",
            "Accuracy reached is 0.9932\n",
            "Just finished epoch 10\n",
            "Loss evaluated on the validation dataset = 0.3073081444747746\n",
            "Accuracy reached is 1.0\n",
            "Just finished epoch 20\n",
            "Loss evaluated on the validation dataset = 0.31566708440929653\n",
            "Accuracy reached is 0.9992\n"
          ],
          "name": "stdout"
        },
        {
          "output_type": "execute_result",
          "data": {
            "text/plain": [
              "<tensorflow.python.keras.callbacks.History at 0x7f796083c4e0>"
            ]
          },
          "metadata": {
            "tags": []
          },
          "execution_count": 32
        }
      ]
    },
    {
      "metadata": {
        "id": "aZDvmLQ3Cdqg",
        "colab_type": "code",
        "colab": {}
      },
      "cell_type": "code",
      "source": [
        ""
      ],
      "execution_count": 0,
      "outputs": []
    }
  ]
}