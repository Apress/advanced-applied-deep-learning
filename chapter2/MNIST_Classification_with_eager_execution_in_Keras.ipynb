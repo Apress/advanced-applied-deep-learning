{
  "nbformat": 4,
  "nbformat_minor": 0,
  "metadata": {
    "colab": {
      "name": "MNIST Classification with eager execution in Keras.ipynb",
      "version": "0.3.2",
      "provenance": [],
      "collapsed_sections": [],
      "include_colab_link": true
    },
    "kernelspec": {
      "name": "python3",
      "display_name": "Python 3"
    },
    "accelerator": "GPU"
  },
  "cells": [
    {
      "cell_type": "markdown",
      "metadata": {
        "id": "view-in-github",
        "colab_type": "text"
      },
      "source": [
        "<a href=\"https://colab.research.google.com/github/michelucci/aadl2-code/blob/master/chapter2/MNIST_Classification_with_eager_execution_in_Keras.ipynb\" target=\"_parent\"><img src=\"https://colab.research.google.com/assets/colab-badge.svg\" alt=\"Open In Colab\"/></a>"
      ]
    },
    {
      "metadata": {
        "id": "2-QOr6snaoyG",
        "colab_type": "text"
      },
      "cell_type": "markdown",
      "source": [
        "# MNIST Classification with eager execution in Keras\n",
        "\n",
        "(C) 2019 Umberto Michelucci\n",
        "\n",
        "umberto.michelucci@toelt.ai\n",
        "\n",
        "www.toelt.ai"
      ]
    },
    {
      "metadata": {
        "id": "NF3FFGnsay71",
        "colab_type": "code",
        "outputId": "6d6e64bd-70d1-4a9c-cb0a-7471a8c32765",
        "colab": {
          "base_uri": "https://localhost:8080/",
          "height": 35
        }
      },
      "cell_type": "code",
      "source": [
        "import tensorflow as tf\n",
        "import keras\n",
        "import numpy as np\n",
        "import matplotlib.pyplot as plt\n",
        "plt.style.use('default')\n",
        "\n",
        "import tensorflow.contrib.eager as tfe\n",
        "\n",
        "from google.colab import files\n",
        "\n",
        "tf.enable_eager_execution()"
      ],
      "execution_count": 0,
      "outputs": [
        {
          "output_type": "stream",
          "text": [
            "Using TensorFlow backend.\n"
          ],
          "name": "stderr"
        }
      ]
    },
    {
      "metadata": {
        "id": "Y0DCQWSNa1GQ",
        "colab_type": "text"
      },
      "cell_type": "markdown",
      "source": [
        "let's load the MNIST dataset first"
      ]
    },
    {
      "metadata": {
        "id": "OzTqLY7La4pV",
        "colab_type": "code",
        "outputId": "d38be52a-2471-4e98-d9f4-87b89b3819ba",
        "colab": {
          "base_uri": "https://localhost:8080/",
          "height": 52
        }
      },
      "cell_type": "code",
      "source": [
        "num_classes = 10\n",
        "\n",
        "mnist = tf.keras.datasets.mnist\n",
        "(x_train, y_train), (x_test, y_test) = mnist.load_data()\n",
        "\n",
        "image_vector_size = 28*28\n",
        "x_train = x_train.reshape(x_train.shape[0], image_vector_size)\n",
        "x_test = x_test.reshape(x_test.shape[0], image_vector_size)\n",
        "\n",
        "y_train = keras.utils.to_categorical(y_train, num_classes)\n",
        "y_test = keras.utils.to_categorical(y_test, num_classes)"
      ],
      "execution_count": 0,
      "outputs": [
        {
          "output_type": "stream",
          "text": [
            "Downloading data from https://storage.googleapis.com/tensorflow/tf-keras-datasets/mnist.npz\n",
            "11493376/11490434 [==============================] - 0s 0us/step\n"
          ],
          "name": "stdout"
        }
      ]
    },
    {
      "metadata": {
        "id": "NP1-WsG5sigL",
        "colab_type": "text"
      },
      "cell_type": "markdown",
      "source": [
        "Now let's convert our data in a dataset, to make our training easier."
      ]
    },
    {
      "metadata": {
        "id": "y_ljtmksmTiV",
        "colab_type": "code",
        "colab": {}
      },
      "cell_type": "code",
      "source": [
        "dataset = tf.data.Dataset.from_tensor_slices(\n",
        "    (tf.cast(x_train/255.0, tf.float32),\n",
        "     tf.cast(y_train,tf.int64)))\n",
        "\n",
        "dataset = dataset.shuffle(60000).batch(64)"
      ],
      "execution_count": 0,
      "outputs": []
    },
    {
      "metadata": {
        "id": "1v33qKC-cZRe",
        "colab_type": "code",
        "colab": {}
      },
      "cell_type": "code",
      "source": [
        "mnist_model = tf.keras.Sequential([\n",
        "  tf.keras.layers.Dense(1024, input_shape=(784,)),  # must declare input shape\n",
        "  tf.keras.layers.Dense(1024),  # must declare input shape\n",
        "  tf.keras.layers.Dense(10)\n",
        "])"
      ],
      "execution_count": 0,
      "outputs": []
    },
    {
      "metadata": {
        "id": "t1Rjy7iYsnzc",
        "colab_type": "text"
      },
      "cell_type": "markdown",
      "source": [
        "We can check the results for one single image easily with the dataset"
      ]
    },
    {
      "metadata": {
        "id": "A7uQ1AZNjQH4",
        "colab_type": "code",
        "outputId": "693742ac-9fab-4bd8-c604-c33ddd06f7e4",
        "colab": {
          "base_uri": "https://localhost:8080/",
          "height": 119
        }
      },
      "cell_type": "code",
      "source": [
        "for image,labels in dataset.take(1):\n",
        "  print(image.shape)\n",
        "  print(labels[0:1])\n",
        "  print(\"Logits: \", mnist_model(image[0:1]).numpy())\n",
        "  print('label ',tf.argmax(labels[0:1], axis = 1)) \n",
        "  # Check how, since we are using eager execution\n",
        "  # we don't need a session to evaluate the node\n",
        "  print(tf.argmax(tf.nn.softmax(mnist_model(image[0:1])), axis = 1))\n",
        "  # Of course the prediction are not right, since we have not yet\n",
        "  # trianed the model."
      ],
      "execution_count": 0,
      "outputs": [
        {
          "output_type": "stream",
          "text": [
            "(64, 784)\n",
            "tf.Tensor([[0 0 0 1 0 0 0 0 0 0]], shape=(1, 10), dtype=int64)\n",
            "Logits:  [[-0.36922973  0.5319848  -0.656654   -0.19222254  0.2856151   0.35713595\n",
            "   0.00397967  0.35500485 -0.5007861   0.3719506 ]]\n",
            "label  tf.Tensor([3], shape=(1,), dtype=int64)\n",
            "tf.Tensor([1], shape=(1,), dtype=int64)\n"
          ],
          "name": "stdout"
        }
      ]
    },
    {
      "metadata": {
        "id": "DHjspH-4huU8",
        "colab_type": "code",
        "colab": {}
      },
      "cell_type": "code",
      "source": [
        "optimizer = tf.train.AdamOptimizer()\n",
        "loss_history = []"
      ],
      "execution_count": 0,
      "outputs": []
    },
    {
      "metadata": {
        "id": "1AGVjE2rh1P9",
        "colab_type": "code",
        "outputId": "6240cfcc-ea0c-4470-c36e-e1ba9221468c",
        "colab": {
          "base_uri": "https://localhost:8080/",
          "height": 391
        }
      },
      "cell_type": "code",
      "source": [
        "%%time\n",
        "with tf.device('/cpu:0'):\n",
        "  for i in range(10): # Loop for the Epochs\n",
        "    print (\"\\nEpoch:\", i)\n",
        "    for (batch, (images, labels)) in enumerate(dataset.take(60000)): # Loop for the mini-batches\n",
        "      if batch % 100 == 0:\n",
        "        print('.', end='')\n",
        "      with tf.GradientTape() as tape:\n",
        "        logits = mnist_model(images, training=True)\n",
        "        loss_value = tf.losses.sparse_softmax_cross_entropy(tf.argmax(labels, axis = 1), logits)\n",
        "\n",
        "        loss_history.append(loss_value.numpy())\n",
        "        grads = tape.gradient(loss_value, mnist_model.variables)\n",
        "        optimizer.apply_gradients(zip(grads, mnist_model.variables),\n",
        "                                  global_step=tf.train.get_or_create_global_step())"
      ],
      "execution_count": 0,
      "outputs": [
        {
          "output_type": "stream",
          "text": [
            "\n",
            "Epoch: 0\n",
            "..........\n",
            "Epoch: 1\n",
            "..........\n",
            "Epoch: 2\n",
            "..........\n",
            "Epoch: 3\n",
            "..........\n",
            "Epoch: 4\n",
            "..........\n",
            "Epoch: 5\n",
            "..........\n",
            "Epoch: 6\n",
            "..........\n",
            "Epoch: 7\n",
            "..........\n",
            "Epoch: 8\n",
            "..........\n",
            "Epoch: 9\n",
            "..........CPU times: user 7min 57s, sys: 43.5 s, total: 8min 41s\n",
            "Wall time: 5min 48s\n"
          ],
          "name": "stdout"
        }
      ]
    },
    {
      "metadata": {
        "id": "E2Jc8D1YoE0y",
        "colab_type": "code",
        "colab": {}
      },
      "cell_type": "code",
      "source": [
        "probs = tf.nn.softmax(mnist_model(x_train))"
      ],
      "execution_count": 0,
      "outputs": []
    },
    {
      "metadata": {
        "id": "8QuNr-30ojO_",
        "colab_type": "code",
        "outputId": "f8f9e466-0ebc-4ca6-9b56-2221fe856e2d",
        "colab": {
          "base_uri": "https://localhost:8080/",
          "height": 34
        }
      },
      "cell_type": "code",
      "source": [
        "print(tf.reduce_mean(tf.cast(tf.equal(tf.argmax(probs, axis=1), tf.argmax(y_train, axis = 1)), tf.float32)))"
      ],
      "execution_count": 0,
      "outputs": [
        {
          "output_type": "stream",
          "text": [
            "tf.Tensor(0.88458335, shape=(), dtype=float32)\n"
          ],
          "name": "stdout"
        }
      ]
    },
    {
      "metadata": {
        "id": "2EfpfVE7zgXl",
        "colab_type": "text"
      },
      "cell_type": "markdown",
      "source": [
        "We can now recheck one single image to see if we perform better than before training."
      ]
    },
    {
      "metadata": {
        "id": "N-5hSK3K16P0",
        "colab_type": "code",
        "outputId": "60c7eab3-11ef-4332-8301-a0feb6f72584",
        "colab": {
          "base_uri": "https://localhost:8080/",
          "height": 51
        }
      },
      "cell_type": "code",
      "source": [
        "image = x_train[4:5,:]\n",
        "print(image.shape)\n",
        "print(y_train[4])"
      ],
      "execution_count": 0,
      "outputs": [
        {
          "output_type": "stream",
          "text": [
            "(1, 784)\n",
            "[0. 0. 0. 0. 0. 0. 0. 0. 0. 1.]\n"
          ],
          "name": "stdout"
        }
      ]
    },
    {
      "metadata": {
        "id": "1DFn6cUPzlSN",
        "colab_type": "code",
        "outputId": "0cc05d6b-9bfc-426c-a9f4-fd51c2af2986",
        "colab": {
          "base_uri": "https://localhost:8080/",
          "height": 51
        }
      },
      "cell_type": "code",
      "source": [
        "print('label ',y_train[5]) \n",
        "  # Check how, since we are using eager execution\n",
        "  # we don't need a session to evaluate the node\n",
        "print(tf.argmax(tf.nn.softmax(mnist_model(image)), axis = 1))\n",
        "  # Of course the prediction are not right, since we have not yet\n",
        "  # trianed the model."
      ],
      "execution_count": 0,
      "outputs": [
        {
          "output_type": "stream",
          "text": [
            "label  [0. 0. 1. 0. 0. 0. 0. 0. 0. 0.]\n",
            "tf.Tensor([9], shape=(1,), dtype=int64)\n"
          ],
          "name": "stdout"
        }
      ]
    },
    {
      "metadata": {
        "id": "Y5mdYFTd0oAm",
        "colab_type": "code",
        "outputId": "b0d4f38b-5c9c-4ad9-d37f-3ed80029a753",
        "colab": {
          "base_uri": "https://localhost:8080/",
          "height": 430
        }
      },
      "cell_type": "code",
      "source": [
        "plt.set_cmap('gray')\n",
        "plt.imshow(np.reshape(image,[28,28]))\n",
        "plt.axis('off')\n",
        "# Save the file for publication\n",
        "plt.savefig('ch2-michelucci-fig4.png', bbox_inches='tight', dpi = 300)\n",
        "files.download('ch2-michelucci-fig4.png')"
      ],
      "execution_count": 0,
      "outputs": [
        {
          "output_type": "display_data",
          "data": {
            "image/png": "[encoded data removed]",
            "text/plain": [
              "<Figure size 640x480 with 1 Axes>"
            ]
          },
          "metadata": {
            "tags": []
          }
        }
      ]
    },
    {
      "metadata": {
        "id": "jvtNzhrOr5CL",
        "colab_type": "code",
        "outputId": "02a9341d-e90e-4192-cd4f-1385980ba7c0",
        "colab": {
          "base_uri": "https://localhost:8080/",
          "height": 562
        }
      },
      "cell_type": "code",
      "source": [
        "fig = plt.figure (figsize = (10,6))\n",
        "plt.plot(np.arange(0,len(loss_history)),loss_history, label = \"Loss Function\", color = 'black')\n",
        "\n",
        "plt.xlabel ('Mini-Batch Index', fontsize = 16)\n",
        "plt.ylabel ('Loss Function', fontsize = 16)\n",
        "plt.tick_params(axis='both', which='major', labelsize=16)\n",
        "\n",
        "\n",
        "# Save the file for publication\n",
        "#fig.savefig('ch2-michelucci-fig4.png', bbox_inches='tight', dpi = 300)\n",
        "#files.download('ch2-michelucci-fig4.png')"
      ],
      "execution_count": 0,
      "outputs": [
        {
          "output_type": "display_data",
          "data": {
            "image/png": "[encoded data removed]",
            "text/plain": [
              "<Figure size 1000x600 with 1 Axes>"
            ]
          },
          "metadata": {
            "tags": []
          }
        }
      ]
    },
    {
      "metadata": {
        "id": "VCT87uI_yK9_",
        "colab_type": "text"
      },
      "cell_type": "markdown",
      "source": [
        "# MNIST with GPU acceleration"
      ]
    },
    {
      "metadata": {
        "id": "4_kB48r1hqnt",
        "colab_type": "code",
        "outputId": "88bac24a-32d9-4abd-e375-5c7400b73feb",
        "colab": {
          "base_uri": "https://localhost:8080/",
          "height": 34
        }
      },
      "cell_type": "code",
      "source": [
        "print(tf.test.is_gpu_available())"
      ],
      "execution_count": 0,
      "outputs": [
        {
          "output_type": "stream",
          "text": [
            "True\n"
          ],
          "name": "stdout"
        }
      ]
    },
    {
      "metadata": {
        "id": "x6TxlcyLiOTG",
        "colab_type": "code",
        "outputId": "0f4f24cb-5fa6-4421-b512-86a38924bf2f",
        "colab": {
          "base_uri": "https://localhost:8080/",
          "height": 34
        }
      },
      "cell_type": "code",
      "source": [
        "device_name = tf.test.gpu_device_name()\n",
        "if device_name != '/device:GPU:0':\n",
        "  raise SystemError('GPU device not found. Check the notebook settings.')\n",
        "print('Found GPU at: {}'.format(device_name))"
      ],
      "execution_count": 0,
      "outputs": [
        {
          "output_type": "stream",
          "text": [
            "Found GPU at: /device:GPU:0\n"
          ],
          "name": "stdout"
        }
      ]
    },
    {
      "metadata": {
        "id": "IFFJylCviWOn",
        "colab_type": "code",
        "colab": {}
      },
      "cell_type": "code",
      "source": [
        "\n",
        "config = tf.ConfigProto()\n",
        "config.gpu_options.allow_growth = True\n",
        "sess = tf.Session(config=config)\n"
      ],
      "execution_count": 0,
      "outputs": []
    },
    {
      "metadata": {
        "id": "Tiipq2RfuKdH",
        "colab_type": "text"
      },
      "cell_type": "markdown",
      "source": [
        "The following code have tensorflow operations that are placed on a GPU. At the moment the argmax has a bug and therefore has been placed on a CPU. A GPU make the code much faster than when using only a CPU (check above for the CPU only version)"
      ]
    },
    {
      "metadata": {
        "id": "aSz-0_EVhma7",
        "colab_type": "code",
        "outputId": "8ac19e75-abe4-4d55-a403-272279e8b5be",
        "colab": {
          "base_uri": "https://localhost:8080/",
          "height": 391
        }
      },
      "cell_type": "code",
      "source": [
        "%%time\n",
        "\n",
        "for i in range(10): # Loop for the Epochs\n",
        "  print (\"\\nEpoch:\", i)\n",
        "  \n",
        "  for (batch, (images, labels)) in enumerate(dataset.take(60000)): # Loop for the mini-batches\n",
        "    if batch % 100 == 0:\n",
        "      print('.', end='')\n",
        "    labels = tf.cast(labels, dtype = tf.int64)\n",
        "    \n",
        "    \n",
        "    with tf.GradientTape() as tape:\n",
        "      \n",
        "      with tf.device('/gpu:0'):    \n",
        "        logits = mnist_model(images, training=True)\n",
        "\n",
        "      with tf.device('/cpu:0'):\n",
        "        tgmax = tf.argmax(labels, axis = 1, output_type=tf.int64)\n",
        "        \n",
        "      with tf.device('/gpu:0'):  \n",
        "        loss_value = tf.losses.sparse_softmax_cross_entropy(tgmax, logits)\n",
        "\n",
        "        loss_history.append(loss_value.numpy())\n",
        "        grads = tape.gradient(loss_value, mnist_model.variables)\n",
        "        optimizer.apply_gradients(zip(grads, mnist_model.variables),\n",
        "                                    global_step=tf.train.get_or_create_global_step())"
      ],
      "execution_count": 0,
      "outputs": [
        {
          "output_type": "stream",
          "text": [
            "\n",
            "Epoch: 0\n",
            "..........\n",
            "Epoch: 1\n",
            "..........\n",
            "Epoch: 2\n",
            "..........\n",
            "Epoch: 3\n",
            "..........\n",
            "Epoch: 4\n",
            "..........\n",
            "Epoch: 5\n",
            "..........\n",
            "Epoch: 6\n",
            "..........\n",
            "Epoch: 7\n",
            "..........\n",
            "Epoch: 8\n",
            "..........\n",
            "Epoch: 9\n",
            "..........CPU times: user 1min 18s, sys: 6.15 s, total: 1min 24s\n",
            "Wall time: 1min 18s\n"
          ],
          "name": "stdout"
        }
      ]
    },
    {
      "metadata": {
        "id": "hx-DO18kiXEJ",
        "colab_type": "code",
        "colab": {}
      },
      "cell_type": "code",
      "source": [
        ""
      ],
      "execution_count": 0,
      "outputs": []
    }
  ]
}