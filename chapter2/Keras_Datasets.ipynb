{
  "nbformat": 4,
  "nbformat_minor": 0,
  "metadata": {
    "colab": {
      "name": "Keras Datasets.ipynb",
      "version": "0.3.2",
      "provenance": [],
      "collapsed_sections": [],
      "include_colab_link": true
    },
    "kernelspec": {
      "display_name": "Python 3",
      "language": "python",
      "name": "python3"
    }
  },
  "cells": [
    {
      "cell_type": "markdown",
      "metadata": {
        "id": "view-in-github",
        "colab_type": "text"
      },
      "source": [
        "<a href=\"https://colab.research.google.com/github/michelucci/aadl2-code/blob/master/chapter2/Keras_Datasets.ipynb\" target=\"_parent\"><img src=\"https://colab.research.google.com/assets/colab-badge.svg\" alt=\"Open In Colab\"/></a>"
      ]
    },
    {
      "metadata": {
        "colab_type": "text",
        "id": "H35gp0sKG4kW"
      },
      "cell_type": "markdown",
      "source": [
        "# Keras Datasets\n",
        "\n",
        "(C) Umberto Michelucci\n",
        "\n",
        "umberto.michelucci@toelt.ai\n",
        "\n",
        "www.toelt.ai"
      ]
    },
    {
      "metadata": {
        "colab_type": "code",
        "id": "aOY6IF7vG-QI",
        "colab": {}
      },
      "cell_type": "code",
      "source": [
        "import tensorflow as tf\n",
        "from tensorflow import keras\n",
        "import matplotlib.pyplot as plt"
      ],
      "execution_count": 0,
      "outputs": []
    },
    {
      "metadata": {
        "colab_type": "code",
        "id": "BBaJFHm-UwYA",
        "colab": {}
      },
      "cell_type": "code",
      "source": [
        "tf.enable_eager_execution()"
      ],
      "execution_count": 0,
      "outputs": []
    },
    {
      "metadata": {
        "colab_type": "code",
        "id": "KQhws7TFHBHz",
        "colab": {}
      },
      "cell_type": "code",
      "source": [
        "inp = tf.random_uniform([10, 10])\n",
        "dataset = tf.data.Dataset.from_tensor_slices(inp)"
      ],
      "execution_count": 0,
      "outputs": []
    },
    {
      "metadata": {
        "colab_type": "code",
        "id": "KNEWtK0sHZHi",
        "outputId": "c2ba304f-3e08-4b64-b663-94f0566ab6f6",
        "colab": {
          "base_uri": "https://localhost:8080/",
          "height": 35
        }
      },
      "cell_type": "code",
      "source": [
        "print(dataset)"
      ],
      "execution_count": 0,
      "outputs": [
        {
          "output_type": "stream",
          "text": [
            "<TensorSliceDataset shapes: (10,), types: tf.float32>\n"
          ],
          "name": "stdout"
        }
      ]
    },
    {
      "metadata": {
        "colab_type": "code",
        "id": "XCtalBmhHovl",
        "outputId": "d58cb94e-21b1-479e-a9fc-8268b7acec64",
        "colab": {
          "base_uri": "https://localhost:8080/",
          "height": 87
        }
      },
      "cell_type": "code",
      "source": [
        "dataset.make_one_shot_iterator().get_next()"
      ],
      "execution_count": 0,
      "outputs": [
        {
          "output_type": "execute_result",
          "data": {
            "text/plain": [
              "<tf.Tensor: id=75, shape=(10,), dtype=float32, numpy=\n",
              "array([0.2215631 , 0.32099664, 0.04410303, 0.8502971 , 0.2472974 ,\n",
              "       0.25522232, 0.94817066, 0.7719344 , 0.60333145, 0.75336015],\n",
              "      dtype=float32)>"
            ]
          },
          "metadata": {
            "tags": []
          },
          "execution_count": 27
        }
      ]
    },
    {
      "metadata": {
        "colab_type": "code",
        "id": "Jf9WtSbfIvDt",
        "colab": {}
      },
      "cell_type": "code",
      "source": [
        "dataset2 = dataset.map(lambda x: x*2)"
      ],
      "execution_count": 0,
      "outputs": []
    },
    {
      "metadata": {
        "colab_type": "code",
        "id": "M7CaDHurJqrh",
        "outputId": "5db0e26c-ea14-4082-f872-714d83fdb641",
        "colab": {
          "base_uri": "https://localhost:8080/",
          "height": 87
        }
      },
      "cell_type": "code",
      "source": [
        "dataset2.make_one_shot_iterator().get_next()"
      ],
      "execution_count": 0,
      "outputs": [
        {
          "output_type": "execute_result",
          "data": {
            "text/plain": [
              "<tf.Tensor: id=80, shape=(10,), dtype=float32, numpy=\n",
              "array([0.4431262 , 0.6419933 , 0.08820605, 1.7005942 , 0.4945948 ,\n",
              "       0.51044464, 1.8963413 , 1.5438688 , 1.2066629 , 1.5067203 ],\n",
              "      dtype=float32)>"
            ]
          },
          "metadata": {
            "tags": []
          },
          "execution_count": 28
        }
      ]
    },
    {
      "metadata": {
        "colab_type": "code",
        "id": "pzvY34IzJsEX",
        "colab": {}
      },
      "cell_type": "code",
      "source": [
        "iterator = dataset.make_one_shot_iterator()"
      ],
      "execution_count": 0,
      "outputs": []
    },
    {
      "metadata": {
        "colab_type": "code",
        "id": "OKLCQMMdLWsO",
        "outputId": "aeee25b5-ab51-48c4-f9df-ec265b369927",
        "colab": {
          "base_uri": "https://localhost:8080/",
          "height": 537
        }
      },
      "cell_type": "code",
      "source": [
        "for i in range(10):\n",
        "  value = print(iterator.get_next())"
      ],
      "execution_count": 0,
      "outputs": [
        {
          "output_type": "stream",
          "text": [
            "tf.Tensor(\n",
            "[0.2215631  0.32099664 0.04410303 0.8502971  0.2472974  0.25522232\n",
            " 0.94817066 0.7719344  0.60333145 0.75336015], shape=(10,), dtype=float32)\n",
            "tf.Tensor(\n",
            "[0.28381765 0.3738917  0.8146689  0.20919728 0.5753969  0.9356725\n",
            " 0.7362906  0.76200795 0.01308048 0.14003313], shape=(10,), dtype=float32)\n",
            "tf.Tensor(\n",
            "[0.29885674 0.47367573 0.49806583 0.64716995 0.8336675  0.8460969\n",
            " 0.33148313 0.6525279  0.697958   0.06005645], shape=(10,), dtype=float32)\n",
            "tf.Tensor(\n",
            "[0.14598179 0.67179334 0.35625577 0.28104913 0.2975446  0.87274456\n",
            " 0.30534363 0.6209985  0.03852844 0.958153  ], shape=(10,), dtype=float32)\n",
            "tf.Tensor(\n",
            "[0.40758312 0.29343522 0.09564996 0.36785018 0.63568246 0.3402202\n",
            " 0.78177416 0.33845615 0.8337041  0.8131908 ], shape=(10,), dtype=float32)\n",
            "tf.Tensor(\n",
            "[0.2228247  0.4966954  0.23163402 0.59210646 0.18588722 0.01308358\n",
            " 0.9436873  0.4783727  0.9283563  0.08247316], shape=(10,), dtype=float32)\n",
            "tf.Tensor(\n",
            "[0.8271581  0.24156737 0.5884396  0.96710765 0.0058099  0.96965003\n",
            " 0.9199555  0.3041364  0.10413229 0.5183605 ], shape=(10,), dtype=float32)\n",
            "tf.Tensor(\n",
            "[0.70673144 0.2807777  0.24169767 0.51306915 0.49428833 0.5060977\n",
            " 0.10077083 0.6111641  0.993098   0.15609765], shape=(10,), dtype=float32)\n",
            "tf.Tensor(\n",
            "[0.5021951  0.925799   0.70967054 0.88004255 0.28615177 0.0291487\n",
            " 0.45966983 0.24528885 0.11048412 0.29730403], shape=(10,), dtype=float32)\n",
            "tf.Tensor(\n",
            "[0.6025102  0.8037435  0.17541885 0.46651816 0.23341537 0.07284379\n",
            " 0.5047542  0.9463999  0.26013696 0.5154352 ], shape=(10,), dtype=float32)\n"
          ],
          "name": "stdout"
        }
      ]
    },
    {
      "metadata": {
        "colab_type": "text",
        "id": "ZBKLG8J9LcLB"
      },
      "cell_type": "markdown",
      "source": [
        "## Batching"
      ]
    },
    {
      "metadata": {
        "colab_type": "code",
        "id": "LhnmI8_QNFwF",
        "colab": {}
      },
      "cell_type": "code",
      "source": [
        "batched_dataset = dataset.batch(2)"
      ],
      "execution_count": 0,
      "outputs": []
    },
    {
      "metadata": {
        "colab_type": "code",
        "id": "m1Q1UFmYNHx8",
        "colab": {}
      },
      "cell_type": "code",
      "source": [
        "iterator = batched_dataset.make_one_shot_iterator()"
      ],
      "execution_count": 0,
      "outputs": []
    },
    {
      "metadata": {
        "colab_type": "code",
        "id": "cYTkJROuNKY0",
        "outputId": "c2a22c26-a813-47c8-913f-d92f71ba9c7b",
        "colab": {
          "base_uri": "https://localhost:8080/",
          "height": 191
        }
      },
      "cell_type": "code",
      "source": [
        "print(iterator.get_next())\n",
        "print(iterator.get_next())"
      ],
      "execution_count": 0,
      "outputs": [
        {
          "output_type": "stream",
          "text": [
            "tf.Tensor(\n",
            "[[0.2215631  0.32099664 0.04410303 0.8502971  0.2472974  0.25522232\n",
            "  0.94817066 0.7719344  0.60333145 0.75336015]\n",
            " [0.28381765 0.3738917  0.8146689  0.20919728 0.5753969  0.9356725\n",
            "  0.7362906  0.76200795 0.01308048 0.14003313]], shape=(2, 10), dtype=float32)\n",
            "tf.Tensor(\n",
            "[[0.29885674 0.47367573 0.49806583 0.64716995 0.8336675  0.8460969\n",
            "  0.33148313 0.6525279  0.697958   0.06005645]\n",
            " [0.14598179 0.67179334 0.35625577 0.28104913 0.2975446  0.87274456\n",
            "  0.30534363 0.6209985  0.03852844 0.958153  ]], shape=(2, 10), dtype=float32)\n"
          ],
          "name": "stdout"
        }
      ]
    },
    {
      "metadata": {
        "colab_type": "text",
        "id": "VKI58nUJNRaI"
      },
      "cell_type": "markdown",
      "source": [
        "# Batching with the MNIST dataset"
      ]
    },
    {
      "metadata": {
        "colab_type": "code",
        "id": "m1fhS-O9OD5g",
        "colab": {}
      },
      "cell_type": "code",
      "source": [
        "num_classes = 10\n",
        "\n",
        "mnist = tf.keras.datasets.mnist\n",
        "(x_train, y_train), (x_test, y_test) = mnist.load_data()\n",
        "\n",
        "image_vector_size = 28*28\n",
        "x_train = x_train.reshape(x_train.shape[0], image_vector_size)\n",
        "x_test = x_test.reshape(x_test.shape[0], image_vector_size)\n",
        "\n",
        "y_train = keras.utils.to_categorical(y_train, num_classes)\n",
        "y_test = keras.utils.to_categorical(y_test, num_classes)"
      ],
      "execution_count": 0,
      "outputs": []
    },
    {
      "metadata": {
        "colab_type": "code",
        "id": "gMOc2wXCOUUP",
        "colab": {}
      },
      "cell_type": "code",
      "source": [
        "mnist_ds_train = tf.data.Dataset.from_tensor_slices((x_train, y_train))\n",
        "mnist_ds_test = tf.data.Dataset.from_tensor_slices((x_test, y_test))"
      ],
      "execution_count": 0,
      "outputs": []
    },
    {
      "metadata": {
        "colab_type": "code",
        "id": "Es7vbzudXyLN",
        "outputId": "76832a94-8031-4e59-b454-aba3cf49cfe2",
        "colab": {
          "base_uri": "https://localhost:8080/",
          "height": 35
        }
      },
      "cell_type": "code",
      "source": [
        "y_train.shape"
      ],
      "execution_count": 0,
      "outputs": [
        {
          "output_type": "execute_result",
          "data": {
            "text/plain": [
              "(60000, 10)"
            ]
          },
          "metadata": {
            "tags": []
          },
          "execution_count": 4
        }
      ]
    },
    {
      "metadata": {
        "colab_type": "text",
        "id": "KawOWlS_RgBi"
      },
      "cell_type": "markdown",
      "source": [
        "# Classical network with Keras\n",
        "\n",
        "This should not be run with eager execution"
      ]
    },
    {
      "metadata": {
        "colab_type": "code",
        "id": "maoyZ-V7U4H_",
        "outputId": "eca613a6-63a9-47e8-9291-c4ea64ee6a27",
        "colab": {
          "base_uri": "https://localhost:8080/",
          "height": 35
        }
      },
      "cell_type": "code",
      "source": [
        "from keras.layers import Dense\n",
        "from keras.objectives import categorical_crossentropy"
      ],
      "execution_count": 0,
      "outputs": [
        {
          "output_type": "stream",
          "text": [
            "Using TensorFlow backend.\n"
          ],
          "name": "stderr"
        }
      ]
    },
    {
      "metadata": {
        "colab_type": "code",
        "id": "9LDQWBloUoXE",
        "colab": {}
      },
      "cell_type": "code",
      "source": [
        "img = tf.placeholder(tf.float32, shape=(None, 784))\n",
        "x = Dense(128, activation='relu')(img)  # fully-connected layer with 128 units and ReLU activation\n",
        "x = Dense(128, activation='relu')(x)\n",
        "preds = Dense(10, activation='softmax')(x)"
      ],
      "execution_count": 0,
      "outputs": []
    },
    {
      "metadata": {
        "colab_type": "text",
        "id": "PEWB6lpLtF7p"
      },
      "cell_type": "markdown",
      "source": [
        "We define an easy network, simply stacking layers."
      ]
    },
    {
      "metadata": {
        "colab_type": "code",
        "id": "0_9_8PyQU2Pa",
        "colab": {}
      },
      "cell_type": "code",
      "source": [
        "labels = tf.placeholder(tf.float32, shape=(None, 10))\n",
        "loss = tf.reduce_mean(categorical_crossentropy(labels, preds))\n",
        "\n",
        "correct_prediction = tf.equal(tf.argmax(preds,1), tf.argmax(labels,1))\n",
        "accuracy = tf.reduce_mean(tf.cast(correct_prediction, tf.float32))"
      ],
      "execution_count": 0,
      "outputs": []
    },
    {
      "metadata": {
        "colab_type": "code",
        "id": "YzPaXhFDU931",
        "colab": {}
      },
      "cell_type": "code",
      "source": [
        "train_step = tf.train.AdamOptimizer(0.001).minimize(loss)\n",
        "init_op = tf.global_variables_initializer()"
      ],
      "execution_count": 0,
      "outputs": []
    },
    {
      "metadata": {
        "colab_type": "text",
        "id": "j5_WrTHnVVMc"
      },
      "cell_type": "markdown",
      "source": [
        "Let's define the iteratorse now"
      ]
    },
    {
      "metadata": {
        "colab_type": "code",
        "id": "eBfqSKmBVW2e",
        "colab": {}
      },
      "cell_type": "code",
      "source": [
        "train_batched = mnist_ds_train.batch(1000)\n",
        "train_batched = train_batched.prefetch(1)\n",
        "#test_batched = mnist_ds_test.batch(1000)"
      ],
      "execution_count": 0,
      "outputs": []
    },
    {
      "metadata": {
        "colab_type": "text",
        "id": "6Bam3ct3cKTC"
      },
      "cell_type": "markdown",
      "source": [
        "Let's define our iterators now (https://cs230-stanford.github.io/tensorflow-input-data.html)"
      ]
    },
    {
      "metadata": {
        "colab_type": "code",
        "id": "xOTVJyV4VjYC",
        "outputId": "b27da287-6f2a-421c-9cb8-8d74954a8cb1",
        "colab": {
          "base_uri": "https://localhost:8080/",
          "height": 35
        }
      },
      "cell_type": "code",
      "source": [
        "train_iterator = train_batched.make_initializable_iterator() # So we can restart from the beginning\n",
        "next_batch = train_iterator.get_next()\n",
        "it_init_op = train_iterator.initializer\n",
        "\n",
        "print(next_batch)\n"
      ],
      "execution_count": 0,
      "outputs": [
        {
          "output_type": "stream",
          "text": [
            "(<tf.Tensor 'IteratorGetNext_7:0' shape=(?, 784) dtype=uint8>, <tf.Tensor 'IteratorGetNext_7:1' shape=(?, 10) dtype=float32>)\n"
          ],
          "name": "stdout"
        }
      ]
    },
    {
      "metadata": {
        "colab_type": "code",
        "id": "Txv6fYP2q--v",
        "outputId": "1d7a5856-8122-4087-a849-24adcce75ccb",
        "colab": {
          "base_uri": "https://localhost:8080/",
          "height": 191
        }
      },
      "cell_type": "code",
      "source": [
        "\n",
        "with tf.Session() as sess:\n",
        "    sess.run(init_op)\n",
        "    \n",
        "    for epoch in range(50):\n",
        "      sess.run(it_init_op)\n",
        "           \n",
        "      sess.run(train_step,feed_dict={img: x_train, labels: y_train})\n",
        "      \n",
        "      if (epoch % 10 == 0):\n",
        "        print('epoch',epoch)\n",
        "        \n",
        "        print(sess.run(accuracy,feed_dict={img: x_train,\n",
        "                                    labels: y_train}))"
      ],
      "execution_count": 0,
      "outputs": [
        {
          "output_type": "stream",
          "text": [
            "epoch 0\n",
            "0.17655\n",
            "epoch 10\n",
            "0.6413\n",
            "epoch 20\n",
            "0.7025333\n",
            "epoch 30\n",
            "0.7262833\n",
            "epoch 40\n",
            "0.7582\n"
          ],
          "name": "stdout"
        }
      ]
    },
    {
      "metadata": {
        "colab_type": "code",
        "id": "aLuFSjf3VFnR",
        "outputId": "27482dba-8d88-43f8-eec3-492c0e28fca9",
        "colab": {
          "base_uri": "https://localhost:8080/",
          "height": 191
        }
      },
      "cell_type": "code",
      "source": [
        "with tf.Session() as sess:\n",
        "    sess.run(init_op)\n",
        "    \n",
        "    for epoch in range(50):\n",
        "      sess.run(it_init_op)\n",
        "      try:\n",
        "        while True:\n",
        "          train_batch_x, train_batch_y = sess.run(next_batch)\n",
        "          sess.run(train_step,feed_dict={img: train_batch_x, labels: train_batch_y})\n",
        "      except tf.errors.OutOfRangeError:\n",
        "        pass\n",
        "      \n",
        "      if (epoch % 10 == 0 ):\n",
        "        print('epoch',epoch)\n",
        "        print(sess.run(accuracy,feed_dict={img: x_train,\n",
        "                                    labels: y_train}))"
      ],
      "execution_count": 0,
      "outputs": [
        {
          "output_type": "stream",
          "text": [
            "epoch 0\n",
            "0.62185\n",
            "epoch 10\n",
            "0.9687\n",
            "epoch 20\n",
            "0.98038334\n",
            "epoch 30\n",
            "0.98716664\n",
            "epoch 40\n",
            "0.98903334\n"
          ],
          "name": "stdout"
        }
      ]
    },
    {
      "metadata": {
        "colab_type": "text",
        "id": "linFzjXOXT8n"
      },
      "cell_type": "markdown",
      "source": [
        "# tf.data.Dataset in eager Execution Mode\n",
        "\n",
        "Example"
      ]
    },
    {
      "metadata": {
        "colab_type": "code",
        "id": "T3opDNayzkUb",
        "colab": {}
      },
      "cell_type": "code",
      "source": [
        "import tensorflow as tf\n",
        "from tensorflow import keras\n",
        "import tensorflow.contrib.eager as tfe\n",
        "\n",
        "tf.enable_eager_execution()"
      ],
      "execution_count": 0,
      "outputs": []
    },
    {
      "metadata": {
        "colab_type": "code",
        "id": "xFqx_iP9zctC",
        "outputId": "2bd66dba-33de-4b8c-b79d-556d475e55cb",
        "colab": {
          "base_uri": "https://localhost:8080/",
          "height": 121
        }
      },
      "cell_type": "code",
      "source": [
        "dataset = tf.data.Dataset.from_tensor_slices(tf.random_uniform([4, 2]))\n",
        "dataset = dataset.batch(2)\n",
        "for batch in dataset:\n",
        "  print(batch)"
      ],
      "execution_count": 0,
      "outputs": [
        {
          "output_type": "stream",
          "text": [
            "tf.Tensor(\n",
            "[[0.07181489 0.46992648]\n",
            " [0.00652897 0.9028846 ]], shape=(2, 2), dtype=float32)\n",
            "tf.Tensor(\n",
            "[[0.9167508  0.8379569 ]\n",
            " [0.33501422 0.3299384 ]], shape=(2, 2), dtype=float32)\n"
          ],
          "name": "stdout"
        }
      ]
    },
    {
      "metadata": {
        "colab_type": "code",
        "id": "mPtEVhcjzeu7",
        "colab": {}
      },
      "cell_type": "code",
      "source": [
        "# Datasets - advanced topics"
      ],
      "execution_count": 0,
      "outputs": []
    },
    {
      "metadata": {
        "id": "Age4vjW7FkjJ",
        "colab_type": "text"
      },
      "cell_type": "markdown",
      "source": [
        "How to read multiple CSV files and load them in one dataset. Example"
      ]
    },
    {
      "metadata": {
        "id": "zPqaj6rdFkjK",
        "colab_type": "code",
        "colab": {}
      },
      "cell_type": "code",
      "source": [
        "datset = tf.data.Dataset.list_files(\"train-csv-*\").flat_map(tf.data.TextLineDataset).map(decode_line)\n",
        "\n",
        "# decode_line --> Function that returns features, labels"
      ],
      "execution_count": 0,
      "outputs": []
    },
    {
      "metadata": {
        "id": "_gP7-LdpFkjN",
        "colab_type": "text"
      },
      "cell_type": "markdown",
      "source": [
        "**flat_map** is a one-to-many transformation. Transform one file in many records\n",
        "\n",
        "**map** is a one-to-one transformation. Transform one line in features,labels"
      ]
    },
    {
      "metadata": {
        "id": "vmytSwUJFkjP",
        "colab_type": "code",
        "colab": {}
      },
      "cell_type": "code",
      "source": [
        ""
      ],
      "execution_count": 0,
      "outputs": []
    }
  ]
}