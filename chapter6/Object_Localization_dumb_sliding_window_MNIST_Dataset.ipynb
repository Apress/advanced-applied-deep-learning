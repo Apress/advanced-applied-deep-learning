{
  "nbformat": 4,
  "nbformat_minor": 0,
  "metadata": {
    "colab": {
      "name": "Object Localization - dumb - sliding window - MNIST Dataset",
      "version": "0.3.2",
      "provenance": [],
      "collapsed_sections": [],
      "include_colab_link": true
    },
    "kernelspec": {
      "name": "python3",
      "display_name": "Python 3"
    }
  },
  "cells": [
    {
      "cell_type": "markdown",
      "metadata": {
        "id": "view-in-github",
        "colab_type": "text"
      },
      "source": [
        "<a href=\"https://colab.research.google.com/github/michelucci/aadl2-code/blob/master/chapter6/Object_Localization_dumb_sliding_window_MNIST_Dataset.ipynb\" target=\"_parent\"><img src=\"https://colab.research.google.com/assets/colab-badge.svg\" alt=\"Open In Colab\"/></a>"
      ]
    },
    {
      "cell_type": "markdown",
      "metadata": {
        "id": "S3jUjOzAqDs1",
        "colab_type": "text"
      },
      "source": [
        "# Object localization built with a sliding window\n",
        "\n",
        "Created on 16/5/2019 14:40\n",
        "\n",
        "(C) Umberto Michelucci\n",
        "\n",
        "umberto.michelucci@toelt.ai\n",
        "\n",
        "www.toelt.ai\n",
        "\n",
        "Umberto is author of the book \"**Applied Deep Learning\n",
        "A Case-Based Approach to Understanding Deep Neural Networks**\" published by APRESS end of 2018. You can buy this book here\n",
        "\n",
        "[toe.lt/book](http://toe.lt/book)\n"
      ]
    },
    {
      "cell_type": "markdown",
      "metadata": {
        "id": "Xx3bNgLZqTTv",
        "colab_type": "text"
      },
      "source": [
        "**Note** this is not the way to do object localization but it is very instructive to understand what it is and why you should not do it this way."
      ]
    },
    {
      "cell_type": "code",
      "metadata": {
        "id": "bXEkDrE6qaIy",
        "colab_type": "code",
        "outputId": "cf6be8b4-381f-4fb4-96a7-4b5fb7ff41e7",
        "colab": {
          "base_uri": "https://localhost:8080/",
          "height": 34
        }
      },
      "source": [
        "from keras.models import Sequential\n",
        "from keras.layers import Dense\n",
        "from keras.models import model_from_json\n",
        "import numpy as np\n",
        "import os\n",
        "\n",
        "import matplotlib.pyplot as plt\n",
        "import matplotlib.patches as patches"
      ],
      "execution_count": 1,
      "outputs": [
        {
          "output_type": "stream",
          "text": [
            "Using TensorFlow backend.\n"
          ],
          "name": "stderr"
        }
      ]
    },
    {
      "cell_type": "code",
      "metadata": {
        "id": "q5HIyqpXqxCt",
        "colab_type": "code",
        "colab": {}
      },
      "source": [
        "plt.rcParams['axes.facecolor'] = 'white'"
      ],
      "execution_count": 0,
      "outputs": []
    },
    {
      "cell_type": "code",
      "metadata": {
        "id": "s_sO0YqeqsbX",
        "colab_type": "code",
        "outputId": "670b38cb-f9ef-4ad1-cf92-0b289f29d812",
        "colab": {
          "base_uri": "https://localhost:8080/",
          "height": 189
        }
      },
      "source": [
        "from google.colab import drive\n",
        "drive.mount('/content/drive')"
      ],
      "execution_count": 4,
      "outputs": [
        {
          "output_type": "stream",
          "text": [
            "Go to this URL in a browser: https://accounts.google.com/o/oauth2/auth?client_id=947318989803-6bn6qk8qdgf4n4g3pfee6491hc0brc4i.apps.googleusercontent.com&redirect_uri=urn%3Aietf%3Awg%3Aoauth%3A2.0%3Aoob&scope=email%20https%3A%2F%2Fwww.googleapis.com%2Fauth%2Fdocs.test%20https%3A%2F%2Fwww.googleapis.com%2Fauth%2Fdrive%20https%3A%2F%2Fwww.googleapis.com%2Fauth%2Fdrive.photos.readonly%20https%3A%2F%2Fwww.googleapis.com%2Fauth%2Fpeopleapi.readonly&response_type=code\n",
            "\n",
            "Enter your authorization code:\n",
            "··········\n",
            "Mounted at /content/drive\n"
          ],
          "name": "stdout"
        }
      ]
    },
    {
      "cell_type": "code",
      "metadata": {
        "id": "59AV_AiUqgkU",
        "colab_type": "code",
        "outputId": "1178b53b-16c9-4f48-a11f-b7edbf956e3a",
        "colab": {
          "base_uri": "https://localhost:8080/",
          "height": 179
        }
      },
      "source": [
        "model_path = '/content/drive/My Drive/pretrained-models/model_mnist.json'\n",
        "weights_path = '/content/drive/My Drive/pretrained-models/model_mnist.h5'\n",
        "\n",
        "json_file = open(model_path, 'r')\n",
        "loaded_model_json = json_file.read()\n",
        "json_file.close()\n",
        "loaded_model = model_from_json(loaded_model_json)\n",
        "# load weights into new model\n",
        "loaded_model.load_weights(weights_path)\n",
        "print(\"Loaded model from disk\")"
      ],
      "execution_count": 5,
      "outputs": [
        {
          "output_type": "stream",
          "text": [
            "WARNING:tensorflow:From /usr/local/lib/python3.6/dist-packages/tensorflow/python/framework/op_def_library.py:263: colocate_with (from tensorflow.python.framework.ops) is deprecated and will be removed in a future version.\n",
            "Instructions for updating:\n",
            "Colocations handled automatically by placer.\n",
            "WARNING:tensorflow:From /usr/local/lib/python3.6/dist-packages/keras/backend/tensorflow_backend.py:3445: calling dropout (from tensorflow.python.ops.nn_ops) with keep_prob is deprecated and will be removed in a future version.\n",
            "Instructions for updating:\n",
            "Please use `rate` instead of `keep_prob`. Rate should be set to `rate = 1 - keep_prob`.\n",
            "Loaded model from disk\n"
          ],
          "name": "stdout"
        }
      ]
    },
    {
      "cell_type": "code",
      "metadata": {
        "id": "DRTTgQ1vqmWo",
        "colab_type": "code",
        "colab": {}
      },
      "source": [
        "from keras.utils import np_utils # To transform labels in categorical\n",
        "from keras.datasets import mnist # To load the dataset\n",
        "from keras import backend as K\n",
        "import keras\n",
        "K.set_image_dim_ordering('tf') # To tell TensorFlow the right order of dims\n",
        "\n",
        "# if using google colab and wants to upload or download files\n",
        "from google.colab import files"
      ],
      "execution_count": 0,
      "outputs": []
    },
    {
      "cell_type": "code",
      "metadata": {
        "id": "sMw-BZAUrYtT",
        "colab_type": "code",
        "outputId": "30766ff4-0fed-4290-8b82-10e5146112f8",
        "colab": {
          "base_uri": "https://localhost:8080/",
          "height": 51
        }
      },
      "source": [
        "(x_train, y_train), (x_test, y_test) = mnist.load_data()"
      ],
      "execution_count": 7,
      "outputs": [
        {
          "output_type": "stream",
          "text": [
            "Downloading data from https://s3.amazonaws.com/img-datasets/mnist.npz\n",
            "11493376/11490434 [==============================] - 1s 0us/step\n"
          ],
          "name": "stdout"
        }
      ]
    },
    {
      "cell_type": "code",
      "metadata": {
        "id": "MOhwvj8fra_I",
        "colab_type": "code",
        "outputId": "cd06b30a-7eaf-4550-f7d8-81a7e976c7f2",
        "colab": {
          "base_uri": "https://localhost:8080/",
          "height": 51
        }
      },
      "source": [
        "img_rows, img_cols = 28, 28\n",
        "\n",
        "if K.image_data_format() == 'channels_first':\n",
        "    x_train = x_train.reshape(x_train.shape[0], 1, img_rows, img_cols)\n",
        "    x_test = x_test.reshape(x_test.shape[0], 1, img_rows, img_cols)\n",
        "    input_shape = (1, img_rows, img_cols)\n",
        "else:\n",
        "    x_train = x_train.reshape(x_train.shape[0], img_rows, img_cols, 1)\n",
        "    x_test = x_test.reshape(x_test.shape[0], img_rows, img_cols, 1)\n",
        "    input_shape = (img_rows, img_cols, 1)\n",
        "\n",
        "x_train = x_train.astype('float32')\n",
        "x_test = x_test.astype('float32')\n",
        "x_train /= 255\n",
        "x_test /= 255\n",
        "print('x_train shape:', x_train.shape)\n",
        "print(x_train.shape[0], 'train samples')"
      ],
      "execution_count": 8,
      "outputs": [
        {
          "output_type": "stream",
          "text": [
            "x_train shape: (60000, 28, 28, 1)\n",
            "60000 train samples\n"
          ],
          "name": "stdout"
        }
      ]
    },
    {
      "cell_type": "code",
      "metadata": {
        "id": "Yd_7xZXmr-bm",
        "colab_type": "code",
        "colab": {}
      },
      "source": [
        "nClasses = 10\n",
        "y_train = np_utils.to_categorical(y_train,nClasses)\n",
        "y_test = np_utils.to_categorical(y_test,nClasses)"
      ],
      "execution_count": 0,
      "outputs": []
    },
    {
      "cell_type": "code",
      "metadata": {
        "id": "aXJDMy_4rQpd",
        "colab_type": "code",
        "outputId": "662d4df8-05de-4efb-cc00-09cf0f6d706b",
        "colab": {
          "base_uri": "https://localhost:8080/",
          "height": 34
        }
      },
      "source": [
        "loaded_model.compile(loss=keras.losses.categorical_crossentropy,\n",
        "              optimizer=keras.optimizers.Adadelta(),\n",
        "              metrics=['accuracy'])\n",
        "score = loaded_model.evaluate(x_test, y_test, verbose=0)\n",
        "print(\"%s: %.2f%%\" % (loaded_model.metrics_names[1], score[1]*100))"
      ],
      "execution_count": 10,
      "outputs": [
        {
          "output_type": "stream",
          "text": [
            "acc: 99.28%\n"
          ],
          "name": "stdout"
        }
      ]
    },
    {
      "cell_type": "code",
      "metadata": {
        "id": "XTG_fjLurvuY",
        "colab_type": "code",
        "outputId": "8d4696c9-aaa8-4b78-ad8c-750c7150be31",
        "colab": {
          "base_uri": "https://localhost:8080/",
          "height": 450
        }
      },
      "source": [
        "plt.style.use('default')\n",
        "plt.imshow(x_test[5].reshape(28,28), cmap = \"gray_r\")"
      ],
      "execution_count": 11,
      "outputs": [
        {
          "output_type": "execute_result",
          "data": {
            "text/plain": [
              "<matplotlib.image.AxesImage at 0x7f116223aef0>"
            ]
          },
          "metadata": {
            "tags": []
          },
          "execution_count": 11
        },
        {
          "output_type": "display_data",
          "data": {
            "image/png": "[encoded data removed]",
            "text/plain": [
              "<Figure size 640x480 with 1 Axes>"
            ]
          },
          "metadata": {
            "tags": []
          }
        }
      ]
    },
    {
      "cell_type": "code",
      "metadata": {
        "id": "d9YmeAVNsK5T",
        "colab_type": "code",
        "outputId": "827d5637-1ab9-42b6-eb4c-3ae4db11db83",
        "colab": {
          "base_uri": "https://localhost:8080/",
          "height": 34
        }
      },
      "source": [
        "np.round(loaded_model.predict(x_test[5].reshape(1,28,28,1)))"
      ],
      "execution_count": 12,
      "outputs": [
        {
          "output_type": "execute_result",
          "data": {
            "text/plain": [
              "array([[0., 1., 0., 0., 0., 0., 0., 0., 0., 0.]], dtype=float32)"
            ]
          },
          "metadata": {
            "tags": []
          },
          "execution_count": 12
        }
      ]
    },
    {
      "cell_type": "markdown",
      "metadata": {
        "id": "B6whnvM-t5Ur",
        "colab_type": "text"
      },
      "source": [
        "# Enlarging the image"
      ]
    },
    {
      "cell_type": "code",
      "metadata": {
        "id": "VWPU2__tsi8n",
        "colab_type": "code",
        "colab": {}
      },
      "source": [
        "from PIL import Image, ImageOps\n",
        "src_img = Image.fromarray(x_test[5].reshape(28,28))\n",
        "newimg = ImageOps.expand(src_img,border=56,fill='black')"
      ],
      "execution_count": 0,
      "outputs": []
    },
    {
      "cell_type": "code",
      "metadata": {
        "id": "5DNzsq1LtNr_",
        "colab_type": "code",
        "outputId": "3f11cb53-5318-472d-93db-9734de4145c9",
        "colab": {
          "base_uri": "https://localhost:8080/",
          "height": 413
        }
      },
      "source": [
        "#plt.xscale(0,140)\n",
        "fig = plt.imshow(newimg, cmap = \"gray_r\")\n",
        "plt.axis('on')\n",
        "plt.xticks([])\n",
        "plt.yticks([])\n",
        "\n",
        "plt.savefig('temp.eps')\n",
        "files.download('temp.eps')"
      ],
      "execution_count": 14,
      "outputs": [
        {
          "output_type": "display_data",
          "data": {
            "image/png": "[encoded data removed]",
            "text/plain": [
              "<Figure size 640x480 with 1 Axes>"
            ]
          },
          "metadata": {
            "tags": []
          }
        }
      ]
    },
    {
      "cell_type": "code",
      "metadata": {
        "id": "iC7BKWV6uwaa",
        "colab_type": "code",
        "outputId": "87e975ea-7822-4d72-d698-347037a6d265",
        "colab": {
          "base_uri": "https://localhost:8080/",
          "height": 34
        }
      },
      "source": [
        "bigimg = np.array(newimg)\n",
        "print(bigimg.shape)"
      ],
      "execution_count": 0,
      "outputs": [
        {
          "output_type": "stream",
          "text": [
            "(140, 140)\n"
          ],
          "name": "stdout"
        }
      ]
    },
    {
      "cell_type": "markdown",
      "metadata": {
        "id": "R4OYuDSoto2l",
        "colab_type": "text"
      },
      "source": [
        "# Localization of the digit"
      ]
    },
    {
      "cell_type": "markdown",
      "metadata": {
        "id": "EhMaTmiTt-Pb",
        "colab_type": "text"
      },
      "source": [
        "Now we extract a $28\\times28$ sliding window starting from the top left with a stride of 10 and we pass this image to our network and we will keep only the one with the highest proability of a digit."
      ]
    },
    {
      "cell_type": "code",
      "metadata": {
        "id": "Rqeb82E10hH4",
        "colab_type": "code",
        "outputId": "110bce93-c824-47b0-b297-546b500ab54b",
        "colab": {
          "base_uri": "https://localhost:8080/",
          "height": 34
        }
      },
      "source": [
        "(140-28)//10"
      ],
      "execution_count": 0,
      "outputs": [
        {
          "output_type": "execute_result",
          "data": {
            "text/plain": [
              "11"
            ]
          },
          "metadata": {
            "tags": []
          },
          "execution_count": 42
        }
      ]
    },
    {
      "cell_type": "code",
      "metadata": {
        "id": "eu2Advki0ATK",
        "colab_type": "code",
        "colab": {}
      },
      "source": [
        "def localize_digit(bigimg, stride, wx, wy):\n",
        "  slidx, slidy = wx, wy\n",
        "\n",
        "  digit_found = -1\n",
        "  max_prob = -1\n",
        "  bbx = -1 # Bounding box x upper left\n",
        "  bby = -1 # Bounding box y upper left\n",
        "  max_prob_ = 0.0\n",
        "  bbx_ = -1\n",
        "  bby_ = -1\n",
        "  most_prob_digit = -1\n",
        "  \n",
        "  \n",
        "  \n",
        "  maxloopx = (bigimg.shape[0] -wx) // stride\n",
        "  maxloopy = (bigimg.shape[1] -wy) // stride\n",
        "  \n",
        "  for slicey in range (0, maxloopx*stride, stride):\n",
        "    for slicex in range (0, maxloopy*stride, stride):\n",
        "      slice_ = bigimg[slicex:slicex+wx, slicey:slicey+wx]\n",
        "      #probs = loaded_model.predict(slice_.reshape(1,28,28,1))\n",
        "      img_ = Image. fromarray(slice_).resize((28, 28), Image.NEAREST) \n",
        "      probs = loaded_model.predict(np.array(img_).reshape(1,28,28,1))\n",
        "      if (np.max(probs > 0.1)):\n",
        "        most_prob_digit = np.argmax(probs)\n",
        "        max_prob_ = np.max(probs)\n",
        "        bbx_ = slicex\n",
        "        bby_ = slicey\n",
        "\n",
        "      if (max_prob_ > max_prob):\n",
        "        max_prob = max_prob_\n",
        "        bbx = bbx_\n",
        "        bby = bby_\n",
        "        digit_found = most_prob_digit\n",
        "        print(\"Digit \"+str(digit_found)+ \" found, with probability \"+str(max_prob)+\" at coordinates \"+str(bbx)+\" \"+str(bby))\n",
        "      \n",
        "        \n",
        "        \n",
        "  print(\"Digit \"+str(digit_found)+ \" found, with probability \"+str(max_prob)+\" at coordinates \"+str(bbx)+\" \"+str(bby))\n",
        "      \n",
        "        \n",
        "  return (max_prob, bbx, bby, digit_found)"
      ],
      "execution_count": 0,
      "outputs": []
    },
    {
      "cell_type": "code",
      "metadata": {
        "id": "zM8qzcQR1XcY",
        "colab_type": "code",
        "outputId": "a3c447cc-36ca-4b0f-8b64-ae71f792f14c",
        "colab": {
          "base_uri": "https://localhost:8080/",
          "height": 119
        }
      },
      "source": [
        "localize_digit(np.array(newimg), 10, 10, 10)"
      ],
      "execution_count": 50,
      "outputs": [
        {
          "output_type": "stream",
          "text": [
            "Digit 1 found, with probability 0.15846781 at coordinates 0 0\n",
            "Digit 1 found, with probability 0.16165628 at coordinates 60 60\n",
            "Digit 1 found, with probability 0.24568161 at coordinates 70 60\n",
            "Digit 0 found, with probability 0.3487859 at coordinates 60 70\n",
            "Digit 0 found, with probability 0.3487859 at coordinates 60 70\n"
          ],
          "name": "stdout"
        },
        {
          "output_type": "execute_result",
          "data": {
            "text/plain": [
              "(0.3487859, 60, 70, 0)"
            ]
          },
          "metadata": {
            "tags": []
          },
          "execution_count": 50
        }
      ]
    },
    {
      "cell_type": "code",
      "metadata": {
        "id": "ThnbYM0gwfzv",
        "colab_type": "code",
        "outputId": "14d29b66-8ce4-4734-9c41-e0490d5703d7",
        "colab": {
          "base_uri": "https://localhost:8080/",
          "height": 519
        }
      },
      "source": [
        "wx = 10\n",
        "wy = 20\n",
        "s = 10\n",
        "max_prob, bbx, bby, digit_found = localize_digit(np.array(newimg), wx, wx, s)\n",
        "\n",
        "fig,ax = plt.subplots(1)\n",
        "\n",
        "# Display the image\n",
        "ax.set_title('Confidence= %1.0f%%, digit found %i, ' % (max_prob*100, digit_found)+ \"($w_x,w_y,s$)=(%d,%d,%d)\" % (wx,wy,s))\n",
        "ax.imshow(newimg, cmap = \"gray_r\")\n",
        "plt.axis('on')\n",
        "plt.xticks([])\n",
        "plt.yticks([])\n",
        "rect = patches.Rectangle((bbx,bby),wx,wy,linewidth=1,edgecolor='r',facecolor='none')\n",
        "\n",
        "# Add the patch to the Axes\n",
        "ax.add_patch(rect)\n",
        "\n",
        "plt.savefig('temp.eps')\n",
        "files.download('temp.eps')"
      ],
      "execution_count": 55,
      "outputs": [
        {
          "output_type": "stream",
          "text": [
            "Digit 1 found, with probability 0.15846781 at coordinates 0 0\n",
            "Digit 1 found, with probability 0.16165628 at coordinates 60 60\n",
            "Digit 1 found, with probability 0.24568161 at coordinates 70 60\n",
            "Digit 0 found, with probability 0.3487859 at coordinates 60 70\n",
            "Digit 0 found, with probability 0.3487859 at coordinates 60 70\n"
          ],
          "name": "stdout"
        },
        {
          "output_type": "display_data",
          "data": {
            "image/png": "[encoded data removed]",
            "text/plain": [
              "<Figure size 640x480 with 1 Axes>"
            ]
          },
          "metadata": {
            "tags": []
          }
        }
      ]
    },
    {
      "cell_type": "code",
      "metadata": {
        "id": "iNZzWUZSxWOd",
        "colab_type": "code",
        "outputId": "0ce186e2-21eb-492c-a0e3-450d29db30be",
        "colab": {
          "base_uri": "https://localhost:8080/",
          "height": 551
        }
      },
      "source": [
        "max_prob, bbx, bby, digit_found = localize_digit(10)\n",
        "\n",
        "fig,ax = plt.subplots(1)\n",
        "\n",
        "# Display the image\n",
        "ax.set_title('Confidence= %1.0f%%, digit %i' % (max_prob*100, digit_found))\n",
        "ax.imshow(newimg, cmap = \"gray_r\")\n",
        "plt.axis('on')\n",
        "plt.xticks([])\n",
        "plt.yticks([])\n",
        "rect = patches.Rectangle((bbx,bby),28,28,linewidth=1,edgecolor='r',facecolor='none')\n",
        "\n",
        "# Add the patch to the Axes\n",
        "ax.add_patch(rect)\n",
        "\n",
        "plt.show()\n",
        "\n",
        "plt.savefig('temp.eps')\n",
        "files.download('temp.eps')"
      ],
      "execution_count": 0,
      "outputs": [
        {
          "output_type": "stream",
          "text": [
            "(11, 11)\n",
            "Digit -1 Slice -1 -1 with prob: 0.0\n",
            "Digit 7 Slice 50 50 with prob: 0.48507714\n",
            "Digit 1 Slice 60 50 with prob: 0.56485534\n",
            "Digit 1 Slice 50 60 with prob: 0.9932834\n",
            "Digit 1 found, with probability 0.9932834 at coordinates 50 60\n"
          ],
          "name": "stdout"
        },
        {
          "output_type": "display_data",
          "data": {
            "image/png": "[encoded data removed]",
            "text/plain": [
              "<Figure size 640x480 with 1 Axes>"
            ]
          },
          "metadata": {
            "tags": []
          }
        },
        {
          "output_type": "display_data",
          "data": {
            "text/plain": [
              "<Figure size 640x480 with 0 Axes>"
            ]
          },
          "metadata": {
            "tags": []
          }
        }
      ]
    },
    {
      "cell_type": "code",
      "metadata": {
        "id": "7JLvdwiK70v2",
        "colab_type": "code",
        "outputId": "c17139e8-4131-4bba-caf4-a474b07f29ca",
        "colab": {
          "base_uri": "https://localhost:8080/",
          "height": 857
        }
      },
      "source": [
        "max_prob, bbx, bby, digit_found = localize_digit(1)\n",
        "\n",
        "fig,ax = plt.subplots(1)\n",
        "\n",
        "# Display the image\n",
        "ax.set_title('f model: T= %1.3f, digit %i' % (max_prob, digit_found))\n",
        "ax.imshow(newimg, cmap = \"gray_r\")\n",
        "plt.axis('on')\n",
        "plt.xticks([])\n",
        "plt.yticks([])\n",
        "rect = patches.Rectangle((bbx,bby),28,28,linewidth=1,edgecolor='r',facecolor='none')\n",
        "\n",
        "# Add the patch to the Axes\n",
        "ax.add_patch(rect)\n",
        "\n",
        "plt.show()\n",
        "\n",
        "plt.savefig('temp.eps')\n",
        "files.download('temp.eps')"
      ],
      "execution_count": 0,
      "outputs": [
        {
          "output_type": "stream",
          "text": [
            "(112, 112)\n",
            "Digit -1 Slice -1 -1 with prob: 0.0\n",
            "Digit 1 Slice 65 47 with prob: 0.48799554\n",
            "Digit 1 Slice 66 47 with prob: 0.5244411\n",
            "Digit 1 Slice 56 48 with prob: 0.5460636\n",
            "Digit 7 Slice 53 49 with prob: 0.6775942\n",
            "Digit 7 Slice 54 49 with prob: 0.7262383\n",
            "Digit 4 Slice 58 49 with prob: 0.7894856\n",
            "Digit 7 Slice 53 50 with prob: 0.8688422\n",
            "Digit 7 Slice 52 51 with prob: 0.87271345\n",
            "Digit 7 Slice 53 51 with prob: 0.9200312\n",
            "Digit 7 Slice 52 52 with prob: 0.9333025\n",
            "Digit 1 Slice 61 52 with prob: 0.9342514\n",
            "Digit 7 Slice 51 53 with prob: 0.9670183\n",
            "Digit 7 Slice 52 53 with prob: 0.9815351\n",
            "Digit 1 Slice 57 53 with prob: 0.99559844\n",
            "Digit 1 Slice 58 53 with prob: 0.9976299\n",
            "Digit 1 Slice 62 53 with prob: 0.99775875\n",
            "Digit 1 Slice 56 54 with prob: 0.9991392\n",
            "Digit 1 Slice 57 54 with prob: 0.999972\n",
            "Digit 1 Slice 58 54 with prob: 0.9999924\n",
            "Digit 1 Slice 56 55 with prob: 0.9999976\n",
            "Digit 1 Slice 57 55 with prob: 1.0\n",
            "Digit 1 found, with probability 1.0 at coordinates 57 55\n"
          ],
          "name": "stdout"
        },
        {
          "output_type": "display_data",
          "data": {
            "image/png": "[encoded data removed]",
            "text/plain": [
              "<Figure size 640x480 with 1 Axes>"
            ]
          },
          "metadata": {
            "tags": []
          }
        },
        {
          "output_type": "display_data",
          "data": {
            "text/plain": [
              "<Figure size 640x480 with 0 Axes>"
            ]
          },
          "metadata": {
            "tags": []
          }
        }
      ]
    },
    {
      "cell_type": "code",
      "metadata": {
        "id": "Y1RBErnC8BET",
        "colab_type": "code",
        "outputId": "f3aa0fa6-53ee-4477-e0df-712c649bc7f7",
        "colab": {
          "base_uri": "https://localhost:8080/",
          "height": 517
        }
      },
      "source": [
        "max_prob, bbx, bby, digit_found = localize_digit(25)\n",
        "\n",
        "fig,ax = plt.subplots(1)\n",
        "\n",
        "# Display the image\n",
        "ax.set_title('f model: T= %1.3f, digit %i' % (max_prob, digit_found))\n",
        "ax.imshow(newimg, cmap = \"gray_r\")\n",
        "plt.axis('on')\n",
        "plt.xticks([])\n",
        "plt.yticks([])\n",
        "rect = patches.Rectangle((bbx,bby),28,28,linewidth=1,edgecolor='r',facecolor='none')\n",
        "\n",
        "# Add the patch to the Axes\n",
        "ax.add_patch(rect)\n",
        "\n",
        "plt.show()\n",
        "\n",
        "plt.savefig('temp.eps')\n",
        "files.download('temp.eps')"
      ],
      "execution_count": 0,
      "outputs": [
        {
          "output_type": "stream",
          "text": [
            "(4, 4)\n",
            "Digit -1 Slice -1 -1 with prob: 0.0\n",
            "Digit 7 Slice 50 50 with prob: 0.48507714\n",
            "Digit 7 found, with probability 0.48507714 at coordinates 50 50\n"
          ],
          "name": "stdout"
        },
        {
          "output_type": "display_data",
          "data": {
            "image/png": "[encoded data removed]",
            "text/plain": [
              "<Figure size 640x480 with 1 Axes>"
            ]
          },
          "metadata": {
            "tags": []
          }
        },
        {
          "output_type": "display_data",
          "data": {
            "text/plain": [
              "<Figure size 640x480 with 0 Axes>"
            ]
          },
          "metadata": {
            "tags": []
          }
        }
      ]
    },
    {
      "cell_type": "code",
      "metadata": {
        "id": "Cq1P_ZH18i9x",
        "colab_type": "code",
        "outputId": "f49083de-04a2-4c02-e9d8-154c5383d7b7",
        "colab": {
          "base_uri": "https://localhost:8080/",
          "height": 534
        }
      },
      "source": [
        "max_prob, bbx, bby, digit_found = localize_digit(9)\n",
        "\n",
        "fig,ax = plt.subplots(1)\n",
        "\n",
        "# Display the image\n",
        "ax.set_title('f model: T= %1.3f, digit %i' % (max_prob, digit_found))\n",
        "ax.imshow(newimg, cmap = \"gray_r\")\n",
        "plt.axis('on')\n",
        "plt.xticks([])\n",
        "plt.yticks([])\n",
        "rect = patches.Rectangle((bbx,bby),28,28,linewidth=1,edgecolor='r',facecolor='none')\n",
        "\n",
        "# Add the patch to the Axes\n",
        "ax.add_patch(rect)\n",
        "\n",
        "plt.show()\n",
        "\n",
        "plt.savefig('temp.eps')\n",
        "files.download('temp.eps')"
      ],
      "execution_count": 0,
      "outputs": [
        {
          "output_type": "stream",
          "text": [
            "(12, 12)\n",
            "Digit -1 Slice -1 -1 with prob: 0.0\n",
            "Digit 7 Slice 54 54 with prob: 0.61147135\n",
            "Digit 1 Slice 63 54 with prob: 0.9996916\n",
            "Digit 1 found, with probability 0.9996916 at coordinates 63 54\n"
          ],
          "name": "stdout"
        },
        {
          "output_type": "display_data",
          "data": {
            "image/png": "[encoded data removed]",
            "text/plain": [
              "<Figure size 640x480 with 1 Axes>"
            ]
          },
          "metadata": {
            "tags": []
          }
        },
        {
          "output_type": "display_data",
          "data": {
            "text/plain": [
              "<Figure size 640x480 with 0 Axes>"
            ]
          },
          "metadata": {
            "tags": []
          }
        }
      ]
    },
    {
      "cell_type": "code",
      "metadata": {
        "id": "KLvRHPYTxfiX",
        "colab_type": "code",
        "colab": {}
      },
      "source": [
        ""
      ],
      "execution_count": 0,
      "outputs": []
    }
  ]
}