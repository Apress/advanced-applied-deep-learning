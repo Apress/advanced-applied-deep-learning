{
  "nbformat": 4,
  "nbformat_minor": 0,
  "metadata": {
    "colab": {
      "name": "CNN (MNIST)",
      "version": "0.3.2",
      "provenance": [],
      "collapsed_sections": [],
      "include_colab_link": true
    },
    "kernelspec": {
      "name": "python3",
      "display_name": "Python 3"
    },
    "accelerator": "GPU"
  },
  "cells": [
    {
      "cell_type": "markdown",
      "metadata": {
        "id": "view-in-github",
        "colab_type": "text"
      },
      "source": [
        "<a href=\"https://colab.research.google.com/github/michelucci/aadl2-code/blob/master/chapter6/CNN_(MNIST).ipynb\" target=\"_parent\"><img src=\"https://colab.research.google.com/assets/colab-badge.svg\" alt=\"Open In Colab\"/></a>"
      ]
    },
    {
      "cell_type": "markdown",
      "metadata": {
        "id": "GIPHkImaoZzn",
        "colab_type": "text"
      },
      "source": [
        "# First example of a CNN with the CIFAR10 dataset\n",
        "\n",
        "Created on 16/5/2019 14:16\n",
        "\n",
        "(C) Umberto Michelucci\n",
        "\n",
        "umberto.michelucci@toelt.ai\n",
        "\n",
        "www.toelt.ai\n",
        "\n",
        "Umberto is author of the book \"**Applied Deep Learning\n",
        "A Case-Based Approach to Understanding Deep Neural Networks**\" published by APRESS end of 2018. You can buy this book here\n",
        "\n",
        "[toe.lt/book](http://toe.lt/book)\n"
      ]
    },
    {
      "cell_type": "markdown",
      "metadata": {
        "id": "2f4lu30OuocC",
        "colab_type": "text"
      },
      "source": [
        "## Import of libraries"
      ]
    },
    {
      "cell_type": "code",
      "metadata": {
        "id": "1tkbZ5CjoZzu",
        "colab_type": "code",
        "colab": {}
      },
      "source": [
        "from keras.models import Sequential\n",
        "from keras.layers import Dense, Conv2D, MaxPooling2D, Dropout, Flatten\n",
        "\n",
        "import keras\n",
        "\n",
        "from keras.optimizers import adam\n",
        "from keras.callbacks import Callback\n",
        "\n",
        "from keras.utils import np_utils # To transform labels in categorical\n",
        "from keras.datasets import mnist # To load the dataset\n",
        "\n",
        "\n",
        "import numpy as np\n",
        "import matplotlib.pyplot as plt\n",
        "\n",
        "\n",
        "from keras import backend as K\n",
        "K.set_image_dim_ordering('tf') # To tell TensorFlow the right order of dims\n",
        "\n",
        "# if using google colab and wants to upload or download files\n",
        "from google.colab import files"
      ],
      "execution_count": 0,
      "outputs": []
    },
    {
      "cell_type": "code",
      "metadata": {
        "id": "SzfEacUQyY9I",
        "colab_type": "code",
        "colab": {}
      },
      "source": [
        "# Just to set some standard plot format\n",
        "import matplotlib as mpl\n",
        "mpl.style.use('classic')"
      ],
      "execution_count": 0,
      "outputs": []
    },
    {
      "cell_type": "markdown",
      "metadata": {
        "id": "Wcvno0hYtqKa",
        "colab_type": "text"
      },
      "source": [
        "## Preparation of the data"
      ]
    },
    {
      "cell_type": "code",
      "metadata": {
        "id": "WdVAo769oZ0G",
        "colab_type": "code",
        "colab": {}
      },
      "source": [
        "(x_train, y_train), (x_test, y_test) = mnist.load_data()"
      ],
      "execution_count": 0,
      "outputs": []
    },
    {
      "cell_type": "code",
      "metadata": {
        "id": "wGF5oNw4loHG",
        "colab_type": "code",
        "colab": {
          "base_uri": "https://localhost:8080/",
          "height": 53
        },
        "outputId": "1bed2685-3782-437e-e4d4-2237a1181f2f"
      },
      "source": [
        "img_rows, img_cols = 28, 28\n",
        "\n",
        "if K.image_data_format() == 'channels_first':\n",
        "    x_train = x_train.reshape(x_train.shape[0], 1, img_rows, img_cols)\n",
        "    x_test = x_test.reshape(x_test.shape[0], 1, img_rows, img_cols)\n",
        "    input_shape = (1, img_rows, img_cols)\n",
        "else:\n",
        "    x_train = x_train.reshape(x_train.shape[0], img_rows, img_cols, 1)\n",
        "    x_test = x_test.reshape(x_test.shape[0], img_rows, img_cols, 1)\n",
        "    input_shape = (img_rows, img_cols, 1)\n",
        "\n",
        "x_train = x_train.astype('float32')\n",
        "x_test = x_test.astype('float32')\n",
        "x_train /= 255\n",
        "x_test /= 255\n",
        "print('x_train shape:', x_train.shape)\n",
        "print(x_train.shape[0], 'train samples')"
      ],
      "execution_count": 48,
      "outputs": [
        {
          "output_type": "stream",
          "text": [
            "x_train shape: (60000, 28, 28, 1)\n",
            "60000 train samples\n"
          ],
          "name": "stdout"
        }
      ]
    },
    {
      "cell_type": "code",
      "metadata": {
        "id": "VhbpF0a5oZ0Q",
        "colab_type": "code",
        "colab": {}
      },
      "source": [
        "nClasses = 10\n",
        "y_train = np_utils.to_categorical(y_train,nClasses)\n",
        "y_test = np_utils.to_categorical(y_test,nClasses)"
      ],
      "execution_count": 0,
      "outputs": []
    },
    {
      "cell_type": "code",
      "metadata": {
        "id": "WNE2vS46oZ06",
        "colab_type": "code",
        "outputId": "6b724f28-bc2d-4bca-8a05-02e0fe514480",
        "colab": {
          "base_uri": "https://localhost:8080/",
          "height": 53
        }
      },
      "source": [
        "print(x_train.shape)\n",
        "print(y_train.shape)"
      ],
      "execution_count": 50,
      "outputs": [
        {
          "output_type": "stream",
          "text": [
            "(60000, 28, 28, 1)\n",
            "(60000, 10)\n"
          ],
          "name": "stdout"
        }
      ]
    },
    {
      "cell_type": "markdown",
      "metadata": {
        "id": "oi9L4zskoZz4",
        "colab_type": "text"
      },
      "source": [
        "## Neural Network Model"
      ]
    },
    {
      "cell_type": "markdown",
      "metadata": {
        "id": "4BJrWQYUu1Ho",
        "colab_type": "text"
      },
      "source": [
        "### Creation of the model"
      ]
    },
    {
      "cell_type": "code",
      "metadata": {
        "id": "eo4Ag1PsoZz6",
        "colab_type": "code",
        "colab": {}
      },
      "source": [
        "num_classes = 10\n",
        "def createModel():\n",
        "    model = Sequential()\n",
        "    model.add(Conv2D(32, kernel_size=(3, 3),\n",
        "                 activation='relu',\n",
        "                 input_shape=input_shape))\n",
        "    model.add(Conv2D(64, (3, 3), activation='relu'))\n",
        "    model.add(MaxPooling2D(pool_size=(2, 2)))\n",
        "    model.add(Dropout(0.5))\n",
        "    model.add(Flatten())\n",
        "    model.add(Dense(128, activation='relu'))\n",
        "    model.add(Dropout(0.5))\n",
        "    model.add(Dense(num_classes, activation='softmax'))\n",
        "     \n",
        "    return model"
      ],
      "execution_count": 0,
      "outputs": []
    },
    {
      "cell_type": "code",
      "metadata": {
        "id": "GTlsSHMboZ0o",
        "colab_type": "code",
        "colab": {}
      },
      "source": [
        "K.clear_session()\n",
        "model = createModel()"
      ],
      "execution_count": 0,
      "outputs": []
    },
    {
      "cell_type": "code",
      "metadata": {
        "id": "5c2I8KOioZ0v",
        "colab_type": "code",
        "colab": {}
      },
      "source": [
        "AdamOpt = adam(lr=0.001)\n",
        "model.compile(loss=keras.losses.categorical_crossentropy,\n",
        "              optimizer=keras.optimizers.Adadelta(),\n",
        "              metrics=['accuracy'])"
      ],
      "execution_count": 0,
      "outputs": []
    },
    {
      "cell_type": "code",
      "metadata": {
        "id": "GDiX5YhuxdAU",
        "colab_type": "code",
        "outputId": "d67a8980-de6e-40bf-9fcc-93b8e44748f2",
        "colab": {
          "base_uri": "https://localhost:8080/",
          "height": 431
        }
      },
      "source": [
        "model.summary()"
      ],
      "execution_count": 67,
      "outputs": [
        {
          "output_type": "stream",
          "text": [
            "_________________________________________________________________\n",
            "Layer (type)                 Output Shape              Param #   \n",
            "=================================================================\n",
            "conv2d_1 (Conv2D)            (None, 26, 26, 32)        320       \n",
            "_________________________________________________________________\n",
            "conv2d_2 (Conv2D)            (None, 24, 24, 64)        18496     \n",
            "_________________________________________________________________\n",
            "max_pooling2d_1 (MaxPooling2 (None, 12, 12, 64)        0         \n",
            "_________________________________________________________________\n",
            "dropout_1 (Dropout)          (None, 12, 12, 64)        0         \n",
            "_________________________________________________________________\n",
            "flatten_1 (Flatten)          (None, 9216)              0         \n",
            "_________________________________________________________________\n",
            "dense_1 (Dense)              (None, 128)               1179776   \n",
            "_________________________________________________________________\n",
            "dropout_2 (Dropout)          (None, 128)               0         \n",
            "_________________________________________________________________\n",
            "dense_2 (Dense)              (None, 10)                1290      \n",
            "=================================================================\n",
            "Total params: 1,199,882\n",
            "Trainable params: 1,199,882\n",
            "Non-trainable params: 0\n",
            "_________________________________________________________________\n"
          ],
          "name": "stdout"
        }
      ]
    },
    {
      "cell_type": "markdown",
      "metadata": {
        "id": "LFt3ieShu6H3",
        "colab_type": "text"
      },
      "source": [
        "### ```CustomCallBack``` class for logging"
      ]
    },
    {
      "cell_type": "code",
      "metadata": {
        "id": "8YlxnovupqOc",
        "colab_type": "code",
        "colab": {}
      },
      "source": [
        "class CustomCallback(Callback):\n",
        "    def on_epoch_end(self, epoch, logs={}):\n",
        "        if (epoch % 10 == 0):\n",
        "          print (\"Just finished epoch\", epoch)\n",
        "          print (\"--------------------------------\")\n",
        "          print ('Loss evaluated on the validation dataset =',\n",
        "                 logs.get('val_loss'))\n",
        "          print ('Accuracy reached train is', \n",
        "                 logs.get('acc'))\n",
        "          print ('Accuracy reached Val   is', \n",
        "                 logs.get('val_acc'))\n",
        "          return"
      ],
      "execution_count": 0,
      "outputs": []
    },
    {
      "cell_type": "markdown",
      "metadata": {
        "id": "NL_uVCiovGoH",
        "colab_type": "text"
      },
      "source": [
        "### Training of the network"
      ]
    },
    {
      "cell_type": "code",
      "metadata": {
        "id": "3FV2D08UoZ1G",
        "colab_type": "code",
        "outputId": "a774b51a-883d-4024-b482-c77d92c49a35",
        "colab": {
          "base_uri": "https://localhost:8080/",
          "height": 467
        }
      },
      "source": [
        "batch_size = 256\n",
        "epochs = 50\n",
        "\n",
        "CC = CustomCallback()\n",
        "history = model.fit(x_train, y_train, batch_size=batch_size, epochs=epochs, \n",
        "                    verbose=0, \n",
        "                    validation_data=(x_test, y_test),\n",
        "          callbacks = [CC])"
      ],
      "execution_count": 69,
      "outputs": [
        {
          "output_type": "stream",
          "text": [
            "Just finished epoch 0\n",
            "--------------------------------\n",
            "Loss evaluated on the validation dataset = 0.07684606027454138\n",
            "Accuracy reached train is 0.8881666666984558\n",
            "Accuracy reached Val   is 0.9747\n",
            "Just finished epoch 10\n",
            "--------------------------------\n",
            "Loss evaluated on the validation dataset = 0.02740396794825792\n",
            "Accuracy reached train is 0.9880833333015442\n",
            "Accuracy reached Val   is 0.9908\n",
            "Just finished epoch 20\n",
            "--------------------------------\n",
            "Loss evaluated on the validation dataset = 0.02576148393364565\n",
            "Accuracy reached train is 0.9911333333015442\n",
            "Accuracy reached Val   is 0.9929\n",
            "Just finished epoch 30\n",
            "--------------------------------\n",
            "Loss evaluated on the validation dataset = 0.02506331851132418\n",
            "Accuracy reached train is 0.9929\n",
            "Accuracy reached Val   is 0.9931\n",
            "Just finished epoch 40\n",
            "--------------------------------\n",
            "Loss evaluated on the validation dataset = 0.025374221243094235\n",
            "Accuracy reached train is 0.9934833333333334\n",
            "Accuracy reached Val   is 0.9931\n"
          ],
          "name": "stdout"
        }
      ]
    },
    {
      "cell_type": "markdown",
      "metadata": {
        "id": "jcJ-EicvngX_",
        "colab_type": "text"
      },
      "source": [
        "# Save the model and the weights"
      ]
    },
    {
      "cell_type": "code",
      "metadata": {
        "id": "LvuZoQXfnjxb",
        "colab_type": "code",
        "colab": {
          "base_uri": "https://localhost:8080/",
          "height": 35
        },
        "outputId": "38259445-2812-463e-a363-afd96808786e"
      },
      "source": [
        "# serialize model to JSON\n",
        "model_json = model.to_json()\n",
        "with open(\"model_mnist.json\", \"w\") as json_file:\n",
        "    json_file.write(model_json)\n",
        "# serialize weights to HDF5\n",
        "model.save_weights(\"model_mnist.h5\")\n",
        "print(\"Saved model to disk\")"
      ],
      "execution_count": 72,
      "outputs": [
        {
          "output_type": "stream",
          "text": [
            "Saved model to disk\n"
          ],
          "name": "stdout"
        }
      ]
    },
    {
      "cell_type": "code",
      "metadata": {
        "id": "mzeyrmnPoEft",
        "colab_type": "code",
        "colab": {}
      },
      "source": [
        "from google.colab import files\n",
        "files.download(\"model_mnist.json\")\n",
        "files.download(\"model_mnist.h5\")"
      ],
      "execution_count": 0,
      "outputs": []
    },
    {
      "cell_type": "markdown",
      "metadata": {
        "id": "h7jgBcjYuBKV",
        "colab_type": "text"
      },
      "source": [
        "## Plots"
      ]
    },
    {
      "cell_type": "code",
      "metadata": {
        "id": "t0ETi-P4oZ1I",
        "colab_type": "code",
        "outputId": "9ba4f7dc-052a-4fce-b847-be6b3870547a",
        "colab": {
          "base_uri": "https://localhost:8080/",
          "height": 482
        }
      },
      "source": [
        "# Loss Curves\n",
        "plt.figure(figsize=[8,6])\n",
        "plt.plot(history.history['loss'],'black',linewidth=3.0)\n",
        "plt.plot(history.history['val_loss'],'black',ls = '--', linewidth=3.0)\n",
        "plt.legend(['Training loss', 'Validation Loss'],fontsize=18)\n",
        "plt.xlabel('Epochs ',fontsize=16)\n",
        "plt.ylabel('Loss',fontsize=16)\n",
        "#plt.title('Loss Curves',fontsize=16)\n",
        "\n",
        "#plt.savefig('loss.png', bbox_inches='tight', dpi = 300)\n",
        "#files.download('loss.png')"
      ],
      "execution_count": 70,
      "outputs": [
        {
          "output_type": "execute_result",
          "data": {
            "text/plain": [
              "Text(0, 0.5, 'Loss')"
            ]
          },
          "metadata": {
            "tags": []
          },
          "execution_count": 70
        },
        {
          "output_type": "display_data",
          "data": {
            "image/png": "[encoded data removed]",
            "text/plain": [
              "<Figure size 640x480 with 1 Axes>"
            ]
          },
          "metadata": {
            "tags": []
          }
        }
      ]
    },
    {
      "cell_type": "code",
      "metadata": {
        "id": "Vsa4cwWopVBh",
        "colab_type": "code",
        "outputId": "3479c893-f01d-4307-9f0d-b0c81df23db9",
        "colab": {
          "base_uri": "https://localhost:8080/",
          "height": 482
        }
      },
      "source": [
        "# Accuracy Curves\n",
        "plt.figure(figsize=[8,6])\n",
        "plt.plot(history.history['acc'],'black',linewidth=3.0)\n",
        "plt.plot(history.history['val_acc'],'black',ls = '--',linewidth=3.0)\n",
        "plt.legend(['Training Accuracy', 'Validation Accuracy'],fontsize=18, \n",
        "           loc = 'lower right')\n",
        "plt.xlabel('Epochs ',fontsize=16)\n",
        "plt.ylabel('Accuracy',fontsize=16)\n",
        "#plt.title('Accuracy Curves',fontsize=16)\n",
        "\n",
        "#plt.savefig('accuracy.png', bbox_inches='tight', dpi = 300)\n",
        "#files.download('accuracy.png')"
      ],
      "execution_count": 71,
      "outputs": [
        {
          "output_type": "execute_result",
          "data": {
            "text/plain": [
              "Text(0, 0.5, 'Accuracy')"
            ]
          },
          "metadata": {
            "tags": []
          },
          "execution_count": 71
        },
        {
          "output_type": "display_data",
          "data": {
            "image/png": "[encoded data removed]",
            "text/plain": [
              "<Figure size 640x480 with 1 Axes>"
            ]
          },
          "metadata": {
            "tags": []
          }
        }
      ]
    },
    {
      "cell_type": "code",
      "metadata": {
        "id": "1Pl2pinFogUY",
        "colab_type": "code",
        "colab": {}
      },
      "source": [
        ""
      ],
      "execution_count": 0,
      "outputs": []
    }
  ]
}